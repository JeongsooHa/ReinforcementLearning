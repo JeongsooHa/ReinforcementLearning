{
 "cells": [
  {
   "cell_type": "code",
   "execution_count": 9,
   "metadata": {
    "scrolled": true
   },
   "outputs": [],
   "source": [
    "import numpy as np\n",
    "import torch\n",
    "from random import *\n",
    "from sklearn import preprocessing\n",
    "import pandas as pd\n",
    "\n",
    "\n",
    "# np.set_printoptions(precision=6)"
   ]
  },
  {
   "cell_type": "code",
   "execution_count": 10,
   "metadata": {
    "scrolled": true
   },
   "outputs": [],
   "source": [
    "mat = np.random.random((16,10))\n",
    "# mat = torch.tensor(dist, dtype=torch.float)"
   ]
  },
  {
   "cell_type": "code",
   "execution_count": 11,
   "metadata": {
    "scrolled": true
   },
   "outputs": [
    {
     "data": {
      "text/plain": [
       "(16, 10)"
      ]
     },
     "execution_count": 11,
     "metadata": {},
     "output_type": "execute_result"
    }
   ],
   "source": [
    "mat.shape"
   ]
  },
  {
   "cell_type": "code",
   "execution_count": 12,
   "metadata": {
    "scrolled": true
   },
   "outputs": [
    {
     "data": {
      "text/plain": [
       "array([[1., 1., 1., 1., 1., 1., 1., 1., 1., 1.],\n",
       "       [1., 1., 1., 1., 1., 1., 1., 1., 1., 1.],\n",
       "       [1., 1., 0., 1., 1., 1., 1., 1., 0., 1.],\n",
       "       [1., 1., 1., 1., 1., 1., 1., 1., 1., 1.],\n",
       "       [0., 1., 1., 0., 1., 1., 1., 1., 1., 1.],\n",
       "       [1., 1., 0., 1., 1., 1., 0., 1., 1., 1.],\n",
       "       [1., 1., 1., 1., 1., 1., 1., 1., 1., 1.],\n",
       "       [1., 1., 1., 1., 1., 1., 0., 1., 1., 1.],\n",
       "       [1., 0., 1., 1., 1., 1., 1., 1., 1., 1.],\n",
       "       [0., 1., 1., 1., 1., 1., 0., 1., 1., 1.],\n",
       "       [1., 1., 0., 0., 1., 1., 1., 1., 0., 1.],\n",
       "       [0., 1., 1., 1., 1., 1., 1., 1., 1., 1.],\n",
       "       [1., 0., 1., 1., 1., 1., 1., 1., 1., 0.],\n",
       "       [1., 0., 1., 0., 0., 0., 0., 0., 1., 1.],\n",
       "       [1., 0., 1., 1., 0., 1., 1., 0., 1., 1.],\n",
       "       [1., 1., 0., 1., 1., 1., 1., 1., 1., 0.]])"
      ]
     },
     "execution_count": 12,
     "metadata": {},
     "output_type": "execute_result"
    }
   ],
   "source": [
    "# Make a mask\n",
    "mask = np.ones((16,10))\n",
    "\n",
    "for i in range(30):\n",
    "    x = randint(0, 15)\n",
    "    y = randint(0, 9)\n",
    "    mask[x][y] = 0\n",
    "\n",
    "mask[2][1] = 0\n",
    "mask[2][2] = 0\n",
    "mask[2][5] = 0\n",
    "mask[2][7] = 0\n",
    "mask"
   ]
  },
  {
   "cell_type": "code",
   "execution_count": 5,
   "metadata": {
    "scrolled": true
   },
   "outputs": [],
   "source": [
    "new_mat_t = torch.tensor(mat, dtype=torch.float)\n",
    "# please check for one task!"
   ]
  },
  {
   "cell_type": "code",
   "execution_count": null,
   "metadata": {
    "scrolled": true
   },
   "outputs": [],
   "source": [
    "# Choose a task in a job.\n",
    "print(new_mat_t[2])\n",
    "print(mask[2])\n",
    "\n",
    "masked_mat = np.multiply(mat, mask)\n",
    "# masked_mat_t = torch.tensor(masked_mat, dtype=torch.float\n",
    "# masked_mat_t = torch.tensor(np.multiply(mat[2], mask[2]), dtype = torch.float)\n",
    "# print(masked_mat_t)\n",
    "print(masked_mat)"
   ]
  },
  {
   "cell_type": "code",
   "execution_count": null,
   "metadata": {
    "scrolled": true
   },
   "outputs": [],
   "source": [
    "min_max_scaler = preprocessing.MinMaxScaler()"
   ]
  },
  {
   "cell_type": "code",
   "execution_count": null,
   "metadata": {
    "scrolled": true
   },
   "outputs": [],
   "source": [
    "print(masked_mat)\n",
    "masked_mat_scaled = min_max_scaler.fit_transform(masked_mat)"
   ]
  },
  {
   "cell_type": "code",
   "execution_count": null,
   "metadata": {
    "scrolled": true
   },
   "outputs": [],
   "source": [
    "_masked_mat_scaled = np.ones((16,10))\n",
    "for i in range(len(masked_mat_scaled)):\n",
    "    t = np.sum(masked_mat_scaled[i])\n",
    "    _masked_mat_scaled[i] = masked_mat_scaled[i]/t\n",
    "print(_masked_mat_scaled)\n",
    "for i in range(len(_masked_mat_scaled)):\n",
    "    rowsum = np.sum(_masked_mat_scaled[i])\n",
    "    print(rowsum)"
   ]
  },
  {
   "cell_type": "code",
   "execution_count": null,
   "metadata": {
    "scrolled": true
   },
   "outputs": [],
   "source": [
    "masked_mat_scaled_t = torch.tensor(_masked_mat_scaled, dtype=torch.float)\n",
    "for t in range(100):\n",
    "    t = masked_mat_scaled_t.multinomial(num_samples=1)\n",
    "\n",
    "    masked_mat_scaled_n = np.array(masked_mat_scaled_t)\n",
    "    t_n = np.array(t)\n",
    "    #print(masked_mat_scaled_n)\n",
    "    print(t_n.reshape(1,16))\n",
    "    for i in range(100):\n",
    "        for j in range(len(masked_mat_scaled_n)):\n",
    "            if masked_mat_scaled_n[j][t_n[j]] == 0:\n",
    "                print(\"!!!!!!!!!!!!!!!!!\")"
   ]
  },
  {
   "cell_type": "code",
   "execution_count": 6,
   "metadata": {
    "scrolled": true
   },
   "outputs": [
    {
     "name": "stdout",
     "output_type": "stream",
     "text": [
      "tensor([-2.7531, -2.7391, -2.7252, -2.7484, -2.7834, -2.7706, -2.8017, -2.7864,\n",
      "        -2.7768, -2.7830])\n",
      "<class 'torch.Tensor'>\n",
      "[0. 0. 0. 1. 1. 0. 1. 0. 0. 1.]\n",
      "tensor([-0.0000, -0.0000, -0.0000, -2.7484, -2.7834, -0.0000, -2.8017, -0.0000,\n",
      "        -0.0000, -2.7830], dtype=torch.float64)\n",
      "tensor([[-0.0000],\n",
      "        [-0.0000],\n",
      "        [-0.0000],\n",
      "        [-2.7484],\n",
      "        [-2.7834],\n",
      "        [-0.0000],\n",
      "        [-2.8017],\n",
      "        [-0.0000],\n",
      "        [-0.0000],\n",
      "        [-2.7830]], dtype=torch.float64)\n"
     ]
    }
   ],
   "source": [
    "########################\n",
    "#  only for one task.  #\n",
    "########################\n",
    "n_mat = [-2.7531, -2.7391, -2.7252, -2.7484, -2.7834, -2.7706, -2.8017, -2.7864, -2.7768, -2.7830]\n",
    "new_mat_t[2] = torch.tensor(n_mat, dtype=torch.float)\n",
    "print(new_mat_t[2])\n",
    "print(type(new_mat_t[2]))\n",
    "print(mask[2])\n",
    "\n",
    "masked_mat = np.multiply(new_mat_t[2], mask[2])\n",
    "masked_mat_re = np.reshape(masked_mat,(-1,1))\n",
    "print(masked_mat)\n",
    "print(masked_mat_re)"
   ]
  },
  {
   "cell_type": "code",
   "execution_count": 7,
   "metadata": {
    "scrolled": true
   },
   "outputs": [],
   "source": [
    "from sklearn.preprocessing import Normalizer\n",
    "\n",
    "# min_max_scaler = preprocessing.MinMaxScaler()"
   ]
  },
  {
   "cell_type": "code",
   "execution_count": 8,
   "metadata": {
    "scrolled": true
   },
   "outputs": [
    {
     "name": "stdout",
     "output_type": "stream",
     "text": [
      "[[-0.]\n",
      " [-0.]\n",
      " [-0.]\n",
      " [-1.]\n",
      " [-1.]\n",
      " [-0.]\n",
      " [-1.]\n",
      " [-0.]\n",
      " [-0.]\n",
      " [-1.]]\n"
     ]
    }
   ],
   "source": [
    "# masked_mat_scaled_re = min_max_scaler.fit_transform(masked_mat_re)\n",
    "#masked_mat_scaled_re\n",
    "transformer = Normalizer().fit(masked_mat_re)\n",
    "masked_mat_scaled_re = transformer.transform(masked_mat_re)\n",
    "print(masked_mat_scaled_re)"
   ]
  },
  {
   "cell_type": "code",
   "execution_count": 41,
   "metadata": {
    "scrolled": true
   },
   "outputs": [
    {
     "data": {
      "text/plain": [
       "4.058464756992105"
      ]
     },
     "execution_count": 41,
     "metadata": {},
     "output_type": "execute_result"
    }
   ],
   "source": [
    "t = np.sum(masked_mat_scaled_re[:])\n",
    "t"
   ]
  },
  {
   "cell_type": "code",
   "execution_count": 42,
   "metadata": {},
   "outputs": [
    {
     "data": {
      "text/plain": [
       "array([[1.],\n",
       "       [1.],\n",
       "       [1.],\n",
       "       [1.],\n",
       "       [1.],\n",
       "       [1.],\n",
       "       [1.],\n",
       "       [1.],\n",
       "       [1.],\n",
       "       [1.]])"
      ]
     },
     "execution_count": 42,
     "metadata": {},
     "output_type": "execute_result"
    }
   ],
   "source": [
    "_masked_mat_scaled = np.ones((len(masked_mat_re),1))\n",
    "_masked_mat_scaled"
   ]
  },
  {
   "cell_type": "code",
   "execution_count": 33,
   "metadata": {
    "scrolled": true
   },
   "outputs": [
    {
     "name": "stdout",
     "output_type": "stream",
     "text": [
      "[[0.07821569]\n",
      " [0.        ]\n",
      " [0.        ]\n",
      " [0.2024731 ]\n",
      " [0.26485999]\n",
      " [0.        ]\n",
      " [0.15812928]\n",
      " [0.        ]\n",
      " [0.08389893]\n",
      " [0.212423  ]]\n",
      "Check if sum is 1 ====  1.0\n"
     ]
    }
   ],
   "source": [
    "_masked_mat_scaled[:] = masked_mat_scaled_re[:]/t\n",
    "print(_masked_mat_scaled)\n",
    "print(\"Check if sum is 1 ==== \",np.sum(_masked_mat_scaled[:]))"
   ]
  },
  {
   "cell_type": "code",
   "execution_count": 34,
   "metadata": {
    "scrolled": true
   },
   "outputs": [
    {
     "name": "stdout",
     "output_type": "stream",
     "text": [
      "tensor([0.0782, 0.0000, 0.0000, 0.2025, 0.2649, 0.0000, 0.1581, 0.0000, 0.0839,\n",
      "        0.2124])\n"
     ]
    }
   ],
   "source": [
    "_masked_mat_scaled_t = torch.tensor(_masked_mat_scaled, dtype=torch.float)\n",
    "_masked_mat_scaled_tre = np.reshape(_masked_mat_scaled_t,len(_masked_mat_scaled_t))\n",
    "print(_masked_mat_scaled_tre)"
   ]
  },
  {
   "cell_type": "code",
   "execution_count": 35,
   "metadata": {
    "scrolled": true
   },
   "outputs": [
    {
     "name": "stdout",
     "output_type": "stream",
     "text": [
      "tensor([4])\n",
      "4\n"
     ]
    }
   ],
   "source": [
    "t = _masked_mat_scaled_tre.multinomial(num_samples=1)\n",
    "print(t)\n",
    "print(t[0].item())"
   ]
  },
  {
   "cell_type": "code",
   "execution_count": 36,
   "metadata": {
    "scrolled": true
   },
   "outputs": [],
   "source": [
    "for i in range(1000):\n",
    "    t = _masked_mat_scaled_tre.multinomial(num_samples=1)\n",
    "    if _masked_mat_scaled_tre[t[0].item()] == 0:\n",
    "        print(\"!!!!!!!!!!!!!!!!!\")"
   ]
  },
  {
   "cell_type": "code",
   "execution_count": null,
   "metadata": {
    "scrolled": true
   },
   "outputs": [],
   "source": []
  }
 ],
 "metadata": {
  "kernelspec": {
   "display_name": "reinforce",
   "language": "python",
   "name": "reinforce"
  },
  "language_info": {
   "codemirror_mode": {
    "name": "ipython",
    "version": 3
   },
   "file_extension": ".py",
   "mimetype": "text/x-python",
   "name": "python",
   "nbconvert_exporter": "python",
   "pygments_lexer": "ipython3",
   "version": "3.6.7"
  }
 },
 "nbformat": 4,
 "nbformat_minor": 2
}
