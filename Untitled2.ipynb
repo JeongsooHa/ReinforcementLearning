{
 "cells": [
  {
   "cell_type": "code",
   "execution_count": 5,
   "metadata": {},
   "outputs": [],
   "source": [
    "import matplotlib.pyplot as plt\n",
    "import matplotlib.image as mpimg\n",
    "import numpy as np\n",
    "%matplotlib inline"
   ]
  },
  {
   "cell_type": "code",
   "execution_count": 8,
   "metadata": {},
   "outputs": [],
   "source": [
    "img=mpimg.imread('./imagetest.JPEG')"
   ]
  },
  {
   "cell_type": "code",
   "execution_count": 9,
   "metadata": {},
   "outputs": [
    {
     "data": {
      "text/plain": [
       "array([[[255, 208, 164],\n",
       "        [255, 223, 181],\n",
       "        [253, 209, 172],\n",
       "        ...,\n",
       "        [254, 253, 249],\n",
       "        [253, 252, 248],\n",
       "        [252, 251, 247]],\n",
       "\n",
       "       [[255, 212, 170],\n",
       "        [235, 190, 149],\n",
       "        [201, 158, 123],\n",
       "        ...,\n",
       "        [255, 254, 250],\n",
       "        [254, 253, 249],\n",
       "        [254, 253, 249]],\n",
       "\n",
       "       [[236, 190, 154],\n",
       "        [199, 155, 120],\n",
       "        [157, 116,  86],\n",
       "        ...,\n",
       "        [255, 255, 251],\n",
       "        [255, 255, 251],\n",
       "        [255, 255, 251]],\n",
       "\n",
       "       ...,\n",
       "\n",
       "       [[255, 253, 254],\n",
       "        [255, 253, 254],\n",
       "        [255, 253, 254],\n",
       "        ...,\n",
       "        [255, 255, 255],\n",
       "        [255, 255, 255],\n",
       "        [255, 255, 255]],\n",
       "\n",
       "       [[253, 251, 252],\n",
       "        [253, 251, 252],\n",
       "        [254, 252, 253],\n",
       "        ...,\n",
       "        [255, 255, 255],\n",
       "        [255, 255, 255],\n",
       "        [255, 255, 255]],\n",
       "\n",
       "       [[250, 248, 249],\n",
       "        [251, 249, 250],\n",
       "        [252, 250, 251],\n",
       "        ...,\n",
       "        [255, 255, 255],\n",
       "        [255, 255, 255],\n",
       "        [255, 255, 255]]], dtype=uint8)"
      ]
     },
     "execution_count": 9,
     "metadata": {},
     "output_type": "execute_result"
    }
   ],
   "source": [
    "img"
   ]
  },
  {
   "cell_type": "code",
   "execution_count": null,
   "metadata": {},
   "outputs": [],
   "source": []
  }
 ],
 "metadata": {
  "kernelspec": {
   "display_name": "reinforce",
   "language": "python",
   "name": "reinforce"
  },
  "language_info": {
   "codemirror_mode": {
    "name": "ipython",
    "version": 3
   },
   "file_extension": ".py",
   "mimetype": "text/x-python",
   "name": "python",
   "nbconvert_exporter": "python",
   "pygments_lexer": "ipython3",
   "version": "3.7.3"
  }
 },
 "nbformat": 4,
 "nbformat_minor": 2
}
