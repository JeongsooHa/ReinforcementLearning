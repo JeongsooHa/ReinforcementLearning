{
 "cells": [
  {
   "cell_type": "code",
   "execution_count": 6,
   "metadata": {},
   "outputs": [],
   "source": [
    "from math import sqrt\n",
    "from math import modf\n",
    "from joblib import Parallel, delayed"
   ]
  },
  {
   "cell_type": "code",
   "execution_count": 7,
   "metadata": {},
   "outputs": [],
   "source": [
    "r = Parallel(n_jobs=1)(delayed(modf)(i/2.) for i in range(10))"
   ]
  },
  {
   "cell_type": "code",
   "execution_count": 8,
   "metadata": {},
   "outputs": [],
   "source": [
    "res, i = zip(*r)"
   ]
  },
  {
   "cell_type": "code",
   "execution_count": 9,
   "metadata": {},
   "outputs": [
    {
     "data": {
      "text/plain": [
       "(0.0, 0.5, 0.0, 0.5, 0.0, 0.5, 0.0, 0.5, 0.0, 0.5)"
      ]
     },
     "execution_count": 9,
     "metadata": {},
     "output_type": "execute_result"
    }
   ],
   "source": [
    "res"
   ]
  },
  {
   "cell_type": "code",
   "execution_count": 10,
   "metadata": {},
   "outputs": [
    {
     "data": {
      "text/plain": [
       "(0.0, 0.0, 1.0, 1.0, 2.0, 2.0, 3.0, 3.0, 4.0, 4.0)"
      ]
     },
     "execution_count": 10,
     "metadata": {},
     "output_type": "execute_result"
    }
   ],
   "source": [
    "i"
   ]
  },
  {
   "cell_type": "code",
   "execution_count": 19,
   "metadata": {},
   "outputs": [
    {
     "name": "stdout",
     "output_type": "stream",
     "text": [
      "Function receives the arguments as a list: (1, 5)\n",
      "Function receives the arguments as a list: (2, 6)Function receives the arguments as a list: (3, 7)\n",
      "\n",
      "Function receives the arguments as a list: (4, 8)\n",
      "1_5\n",
      "3_7\n",
      "2_64_8\n",
      "\n",
      "['1_5', '2_6', '3_7', '4_8']\n"
     ]
    }
   ],
   "source": [
    "import time \n",
    "from joblib import Parallel, delayed \n",
    "# A function that can be called to do work:\n",
    "def work(arg):    \n",
    "    print(\"Function receives the arguments as a list:\", arg)\n",
    "    # Split the list to individual variables:\n",
    "    i, j = arg    \n",
    "    # All this work function does is wait 1 second...\n",
    "    time.sleep(1)    \n",
    "    # ... and prints a string containing the inputs:\n",
    "    print(\"%s_%s\" % (i, j))\n",
    "    return \"%s_%s\" % (i, j)\n",
    "# List of arguments to pass to work():\n",
    "arg_instances = [(1, 1), (1, 2), (1, 3), (1, 4)]\n",
    "# Anything returned by work() can be stored:\n",
    "results = Parallel(n_jobs=4,backend=\"threading\")(map(delayed(work), zip(*a)))\n",
    "print(results)"
   ]
  },
  {
   "cell_type": "code",
   "execution_count": 17,
   "metadata": {},
   "outputs": [],
   "source": [
    "a = [[1,2,3,4],[5,6,7,8]]"
   ]
  },
  {
   "cell_type": "code",
   "execution_count": 22,
   "metadata": {},
   "outputs": [],
   "source": [
    "c = [-1,-2,-3,-4,-5]"
   ]
  },
  {
   "cell_type": "code",
   "execution_count": 23,
   "metadata": {},
   "outputs": [],
   "source": [
    "b = [{'neg_reward': lambda x: c, 'pos_reward':10}]"
   ]
  },
  {
   "cell_type": "code",
   "execution_count": 24,
   "metadata": {},
   "outputs": [
    {
     "ename": "TypeError",
     "evalue": "list indices must be integers or slices, not str",
     "output_type": "error",
     "traceback": [
      "\u001b[0;31m---------------------------------------------------------------------------\u001b[0m",
      "\u001b[0;31mTypeError\u001b[0m                                 Traceback (most recent call last)",
      "\u001b[0;32m<ipython-input-24-adabef233928>\u001b[0m in \u001b[0;36m<module>\u001b[0;34m\u001b[0m\n\u001b[0;32m----> 1\u001b[0;31m \u001b[0mb\u001b[0m\u001b[0;34m[\u001b[0m\u001b[0;34m'neg_reward'\u001b[0m\u001b[0;34m]\u001b[0m\u001b[0;34m\u001b[0m\u001b[0;34m\u001b[0m\u001b[0m\n\u001b[0m",
      "\u001b[0;31mTypeError\u001b[0m: list indices must be integers or slices, not str"
     ]
    }
   ],
   "source": [
    "b['neg_reward']"
   ]
  },
  {
   "cell_type": "code",
   "execution_count": 68,
   "metadata": {},
   "outputs": [],
   "source": [
    "from itertools import product\n",
    "import datetime\n",
    "import joblib\n",
    "\n",
    "        \n",
    "override_params = {\n",
    "                            'env' : [1],\n",
    "                            'jobs' : [4],\n",
    "                            'resource_matrix' : [7],\n",
    "                            'learning_rate': [1e-2, 1e-3, 1e-4],\n",
    "                            #'train_randomize': [True, False],\n",
    "                            #'seed': [i for i in range(30)],\n",
    "                            # 'entropy_coef': [0, 0.5, 1, 2],\n",
    "                            # 'max_grad_norm': [1, 10, 100],\n",
    "                            # 'value_loss_coef': [0.5, 1, 2],\n",
    "                            # 'initial_temperature': [10, 100],\n",
    "                            # 'temperature_decay': [0.9, 0.99, 0.998],\n",
    "                            # 'min_temperature': [0.1, 0.5, 1]\n",
    "                        }\n",
    "def dict_product(inp):\n",
    "    return list(dict(zip(inp.keys(), values)) for values in product(*inp.values()))"
   ]
  },
  {
   "cell_type": "code",
   "execution_count": 69,
   "metadata": {},
   "outputs": [
    {
     "name": "stdout",
     "output_type": "stream",
     "text": [
      "0 {'env': 1, 'jobs': 4, 'resource_matrix': 7, 'learning_rate': 0.01}\n",
      "1 {'env': 1, 'jobs': 4, 'resource_matrix': 7, 'learning_rate': 0.001}\n",
      "2 {'env': 1, 'jobs': 4, 'resource_matrix': 7, 'learning_rate': 0.0001}\n"
     ]
    }
   ],
   "source": [
    "for idx, override_param_setting in enumerate(dict_product(override_params)):\n",
    "    print(idx, override_param_setting)"
   ]
  },
  {
   "cell_type": "code",
   "execution_count": 78,
   "metadata": {},
   "outputs": [],
   "source": [
    "def DRM(override_param_setting):\n",
    "    print(\"D R M \",override_param_setting,\"\\n\")\n",
    "    \n"
   ]
  },
  {
   "cell_type": "code",
   "execution_count": 79,
   "metadata": {},
   "outputs": [],
   "source": [
    "def run_experiment(idx, starting_time, override_param_setting):\n",
    "    print(\"run_experiment \",idx, starting_time, override_param_setting,\"\\n\")\n",
    "    override_param_setting['neptuen_experiment_name']= starting_time +\" \" + str(idx)\n",
    "    DRM(override_param_setting)"
   ]
  },
  {
   "cell_type": "code",
   "execution_count": 80,
   "metadata": {},
   "outputs": [
    {
     "name": "stdout",
     "output_type": "stream",
     "text": [
      "[Parallel(n_jobs=72)]: Using backend ThreadingBackend with 72 concurrent workers.\n",
      "run_experiment  0 19-08-21-12-36-17 {'env': 1, 'jobs': 4, 'resource_matrix': 7, 'learning_rate': 0.01} \n",
      "\n",
      "D R M  {'env': 1, 'jobs': 4, 'resource_matrix': 7, 'learning_rate': 0.01, 'neptuen_experiment_name': '19-08-21-12-36-17 0'} \n",
      "\n",
      "run_experiment  1 19-08-21-12-36-17 {'env': 1, 'jobs': 4, 'resource_matrix': 7, 'learning_rate': 0.001} \n",
      "\n",
      "D R M  {'env': 1, 'jobs': 4, 'resource_matrix': 7, 'learning_rate': 0.001, 'neptuen_experiment_name': '19-08-21-12-36-17 1'} \n",
      "\n",
      "run_experiment  [Parallel(n_jobs=72)]: Done   1 tasks      | elapsed:    0.0s\n",
      "2 19-08-21-12-36-17 {'env': 1, 'jobs': 4, 'resource_matrix': 7, 'learning_rate': 0.0001} \n",
      "\n",
      "D R M  {'env': 1, 'jobs': 4, 'resource_matrix': 7, 'learning_rate': 0.0001, 'neptuen_experiment_name': '19-08-21-12-36-17 2'} \n",
      "\n",
      "[Parallel(n_jobs=72)]: Done   3 out of   3 | elapsed:    0.0s remaining:    0.0s\n",
      "[Parallel(n_jobs=72)]: Done   3 out of   3 | elapsed:    0.0s finished\n"
     ]
    },
    {
     "data": {
      "text/plain": [
       "[None, None, None]"
      ]
     },
     "execution_count": 80,
     "metadata": {},
     "output_type": "execute_result"
    }
   ],
   "source": [
    "starting_time = datetime.datetime.now().strftime(\"%y-%m-%d-%H-%M-%S\")\n",
    "joblib.Parallel(n_jobs=72, backend='threading', verbose=100)(joblib.delayed(run_experiment)(idx, starting_time, override_param_setting) for idx, override_param_setting in enumerate(dict_product(override_params)))\n",
    "\n"
   ]
  },
  {
   "cell_type": "code",
   "execution_count": 82,
   "metadata": {},
   "outputs": [],
   "source": [
    "import numpy as np\n",
    "a = np.ones((10,10))"
   ]
  },
  {
   "cell_type": "code",
   "execution_count": 83,
   "metadata": {},
   "outputs": [
    {
     "data": {
      "text/plain": [
       "(10, 10)"
      ]
     },
     "execution_count": 83,
     "metadata": {},
     "output_type": "execute_result"
    }
   ],
   "source": [
    "a.shape"
   ]
  },
  {
   "cell_type": "code",
   "execution_count": 87,
   "metadata": {},
   "outputs": [
    {
     "data": {
      "text/plain": [
       "(10, 10)"
      ]
     },
     "execution_count": 87,
     "metadata": {},
     "output_type": "execute_result"
    }
   ],
   "source": [
    "[a][0].shape"
   ]
  },
  {
   "cell_type": "code",
   "execution_count": 120,
   "metadata": {},
   "outputs": [],
   "source": [
    "def test(listofparams):\n",
    "    t,tt,ttt = listofparams\n",
    "    print(t,tt,ttt)"
   ]
  },
  {
   "cell_type": "code",
   "execution_count": 123,
   "metadata": {},
   "outputs": [
    {
     "name": "stdout",
     "output_type": "stream",
     "text": [
      "1 2 None\n"
     ]
    }
   ],
   "source": [
    "test([1,2,None])"
   ]
  },
  {
   "cell_type": "code",
   "execution_count": 124,
   "metadata": {},
   "outputs": [
    {
     "name": "stdout",
     "output_type": "stream",
     "text": [
      "None\n"
     ]
    }
   ],
   "source": [
    "a = None\n",
    "print(\"NOT NONE\") if a is not None else print(\"None\")"
   ]
  },
  {
   "cell_type": "code",
   "execution_count": 128,
   "metadata": {},
   "outputs": [],
   "source": [
    "aa = {'key1': [1,2,3,4], 'key2':[6,7,8,9]}"
   ]
  },
  {
   "cell_type": "code",
   "execution_count": 129,
   "metadata": {},
   "outputs": [
    {
     "data": {
      "text/plain": [
       "{'key1': [1, 2, 3, 4], 'key2': [6, 7, 8, 9]}"
      ]
     },
     "execution_count": 129,
     "metadata": {},
     "output_type": "execute_result"
    }
   ],
   "source": [
    "aa"
   ]
  },
  {
   "cell_type": "code",
   "execution_count": 136,
   "metadata": {},
   "outputs": [
    {
     "name": "stdout",
     "output_type": "stream",
     "text": [
      "있음\n"
     ]
    }
   ],
   "source": [
    "if aa is not None and 'key1' in aa:\n",
    "    print(\"있음\")"
   ]
  },
  {
   "cell_type": "code",
   "execution_count": 148,
   "metadata": {},
   "outputs": [],
   "source": [
    "if a is None:\n",
    "    a = {'gamma':[1,2,3]}"
   ]
  },
  {
   "cell_type": "code",
   "execution_count": 155,
   "metadata": {},
   "outputs": [
    {
     "name": "stdout",
     "output_type": "stream",
     "text": [
      "test\n"
     ]
    }
   ],
   "source": [
    "if 'gamma' in a:\n",
    "    print(\"test\")"
   ]
  },
  {
   "cell_type": "code",
   "execution_count": 146,
   "metadata": {},
   "outputs": [],
   "source": [
    "a = None"
   ]
  },
  {
   "cell_type": "code",
   "execution_count": 149,
   "metadata": {},
   "outputs": [
    {
     "data": {
      "text/plain": [
       "{'gamma': [1, 2, 3]}"
      ]
     },
     "execution_count": 149,
     "metadata": {},
     "output_type": "execute_result"
    }
   ],
   "source": [
    "a"
   ]
  },
  {
   "cell_type": "code",
   "execution_count": 153,
   "metadata": {},
   "outputs": [
    {
     "name": "stdout",
     "output_type": "stream",
     "text": [
      "<class 'dict'>\n"
     ]
    }
   ],
   "source": [
    "print(type(a))"
   ]
  },
  {
   "cell_type": "code",
   "execution_count": 156,
   "metadata": {},
   "outputs": [
    {
     "data": {
      "text/plain": [
       "[<matplotlib.lines.Line2D at 0x11ceeb1d0>]"
      ]
     },
     "execution_count": 156,
     "metadata": {},
     "output_type": "execute_result"
    }
   ],
   "source": [
    "import matplotlib\n",
    "import matplotlib.pyplot as plt \n",
    "plt.plot([1,2,3])"
   ]
  },
  {
   "cell_type": "code",
   "execution_count": 157,
   "metadata": {},
   "outputs": [
    {
     "data": {
      "text/plain": [
       "[<matplotlib.lines.Line2D at 0x11cf5dcc0>]"
      ]
     },
     "execution_count": 157,
     "metadata": {},
     "output_type": "execute_result"
    },
    {
     "data": {
      "image/png": "[encoded data removed]",
      "text/plain": [
       "<Figure size 432x288 with 1 Axes>"
      ]
     },
     "metadata": {
      "needs_background": "light"
     },
     "output_type": "display_data"
    }
   ],
   "source": [
    "import matplotlib\n",
    "matplotlib.use('Agg')\n",
    "import matplotlib.pyplot as plt \n",
    "plt.plot([1,2,3])"
   ]
  },
  {
   "cell_type": "code",
   "execution_count": 12,
   "metadata": {},
   "outputs": [],
   "source": [
    "import numpy as np\n",
    "a = np.array([[1,2,3],[3,4,5]])"
   ]
  },
  {
   "cell_type": "code",
   "execution_count": 15,
   "metadata": {},
   "outputs": [
    {
     "data": {
      "text/plain": [
       "4.0"
      ]
     },
     "execution_count": 15,
     "metadata": {},
     "output_type": "execute_result"
    }
   ],
   "source": [
    "np.mean(a[1])"
   ]
  },
  {
   "cell_type": "code",
   "execution_count": 17,
   "metadata": {},
   "outputs": [],
   "source": [
    "a = [1,2,3,4,5]"
   ]
  },
  {
   "cell_type": "code",
   "execution_count": 21,
   "metadata": {},
   "outputs": [
    {
     "data": {
      "text/plain": [
       "False"
      ]
     },
     "execution_count": 21,
     "metadata": {},
     "output_type": "execute_result"
    }
   ],
   "source": [
    "not 2 in a"
   ]
  },
  {
   "cell_type": "code",
   "execution_count": 25,
   "metadata": {},
   "outputs": [],
   "source": [
    "a.append(10)"
   ]
  },
  {
   "cell_type": "code",
   "execution_count": 26,
   "metadata": {},
   "outputs": [
    {
     "data": {
      "text/plain": [
       "[1, 2, 3, 4, 5, 6, 10]"
      ]
     },
     "execution_count": 26,
     "metadata": {},
     "output_type": "execute_result"
    }
   ],
   "source": [
    "a"
   ]
  },
  {
   "cell_type": "code",
   "execution_count": 27,
   "metadata": {},
   "outputs": [
    {
     "name": "stdout",
     "output_type": "stream",
     "text": [
      "1\n",
      "2\n",
      "3\n",
      "4\n",
      "5\n",
      "6\n",
      "10\n"
     ]
    }
   ],
   "source": [
    "for i in a:\n",
    "    print(i)"
   ]
  },
  {
   "cell_type": "code",
   "execution_count": 29,
   "metadata": {},
   "outputs": [],
   "source": [
    "a = {}"
   ]
  },
  {
   "cell_type": "code",
   "execution_count": 30,
   "metadata": {},
   "outputs": [
    {
     "data": {
      "text/plain": [
       "{}"
      ]
     },
     "execution_count": 30,
     "metadata": {},
     "output_type": "execute_result"
    }
   ],
   "source": [
    "a"
   ]
  },
  {
   "cell_type": "code",
   "execution_count": 34,
   "metadata": {},
   "outputs": [],
   "source": [
    "a['aaa'] = 1"
   ]
  },
  {
   "cell_type": "code",
   "execution_count": 35,
   "metadata": {},
   "outputs": [
    {
     "data": {
      "text/plain": [
       "{'aaa': 1}"
      ]
     },
     "execution_count": 35,
     "metadata": {},
     "output_type": "execute_result"
    }
   ],
   "source": [
    "a"
   ]
  },
  {
   "cell_type": "code",
   "execution_count": 36,
   "metadata": {},
   "outputs": [],
   "source": [
    "t = 'aaa'"
   ]
  },
  {
   "cell_type": "code",
   "execution_count": 37,
   "metadata": {},
   "outputs": [],
   "source": [
    "del(a[t])"
   ]
  },
  {
   "cell_type": "code",
   "execution_count": 38,
   "metadata": {},
   "outputs": [
    {
     "data": {
      "text/plain": [
       "{}"
      ]
     },
     "execution_count": 38,
     "metadata": {},
     "output_type": "execute_result"
    }
   ],
   "source": [
    "a"
   ]
  },
  {
   "cell_type": "code",
   "execution_count": 41,
   "metadata": {},
   "outputs": [],
   "source": [
    "a['1'] = {}"
   ]
  },
  {
   "cell_type": "code",
   "execution_count": 42,
   "metadata": {},
   "outputs": [
    {
     "data": {
      "text/plain": [
       "{'1': {}}"
      ]
     },
     "execution_count": 42,
     "metadata": {},
     "output_type": "execute_result"
    }
   ],
   "source": [
    "a"
   ]
  },
  {
   "cell_type": "code",
   "execution_count": 43,
   "metadata": {},
   "outputs": [],
   "source": [
    "a['1']['2']=3"
   ]
  },
  {
   "cell_type": "code",
   "execution_count": 44,
   "metadata": {},
   "outputs": [
    {
     "data": {
      "text/plain": [
       "{'1': {'2': 3}}"
      ]
     },
     "execution_count": 44,
     "metadata": {},
     "output_type": "execute_result"
    }
   ],
   "source": [
    "a"
   ]
  },
  {
   "cell_type": "code",
   "execution_count": 64,
   "metadata": {},
   "outputs": [],
   "source": [
    "b = {}\n",
    "b['1'] = [2]"
   ]
  },
  {
   "cell_type": "code",
   "execution_count": 65,
   "metadata": {},
   "outputs": [
    {
     "data": {
      "text/plain": [
       "{'1': [2]}"
      ]
     },
     "execution_count": 65,
     "metadata": {},
     "output_type": "execute_result"
    }
   ],
   "source": [
    "b"
   ]
  },
  {
   "cell_type": "code",
   "execution_count": 66,
   "metadata": {},
   "outputs": [],
   "source": [
    "b['1'].append(3)"
   ]
  },
  {
   "cell_type": "code",
   "execution_count": 67,
   "metadata": {},
   "outputs": [
    {
     "data": {
      "text/plain": [
       "{'1': [2, 3]}"
      ]
     },
     "execution_count": 67,
     "metadata": {},
     "output_type": "execute_result"
    }
   ],
   "source": [
    "b"
   ]
  },
  {
   "cell_type": "code",
   "execution_count": 69,
   "metadata": {},
   "outputs": [
    {
     "data": {
      "text/plain": [
       "False"
      ]
     },
     "execution_count": 69,
     "metadata": {},
     "output_type": "execute_result"
    }
   ],
   "source": [
    "4 in b['1']"
   ]
  },
  {
   "cell_type": "code",
   "execution_count": 70,
   "metadata": {},
   "outputs": [
    {
     "data": {
      "text/plain": [
       "1"
      ]
     },
     "execution_count": 70,
     "metadata": {},
     "output_type": "execute_result"
    }
   ],
   "source": [
    "b['1'].index(3)"
   ]
  },
  {
   "cell_type": "code",
   "execution_count": 74,
   "metadata": {},
   "outputs": [
    {
     "data": {
      "text/plain": [
       "<function __main__.<lambda>(idx)>"
      ]
     },
     "execution_count": 74,
     "metadata": {},
     "output_type": "execute_result"
    }
   ],
   "source": [
    "lambda idx : idx + 10"
   ]
  },
  {
   "cell_type": "code",
   "execution_count": 75,
   "metadata": {},
   "outputs": [
    {
     "data": {
      "text/plain": [
       "<function __main__.<lambda>(idx)>"
      ]
     },
     "execution_count": 75,
     "metadata": {},
     "output_type": "execute_result"
    }
   ],
   "source": [
    "idx = 10\n",
    "lambda idx : idx + 10"
   ]
  },
  {
   "cell_type": "code",
   "execution_count": 2,
   "metadata": {},
   "outputs": [],
   "source": [
    "total_size = 21060"
   ]
  },
  {
   "cell_type": "code",
   "execution_count": 30,
   "metadata": {},
   "outputs": [],
   "source": [
    "import numpy as np\n",
    "obs = np.zeros(21060,)"
   ]
  },
  {
   "cell_type": "code",
   "execution_count": 31,
   "metadata": {},
   "outputs": [
    {
     "data": {
      "text/plain": [
       "(21060,)"
      ]
     },
     "execution_count": 31,
     "metadata": {},
     "output_type": "execute_result"
    }
   ],
   "source": [
    "obs.shape"
   ]
  },
  {
   "cell_type": "code",
   "execution_count": 32,
   "metadata": {},
   "outputs": [
    {
     "data": {
      "text/plain": [
       "array([[0., 0., 0., ..., 0., 0., 0.]])"
      ]
     },
     "execution_count": 32,
     "metadata": {},
     "output_type": "execute_result"
    }
   ],
   "source": [
    "obs.reshape((-1, total_size))"
   ]
  },
  {
   "cell_type": "code",
   "execution_count": 33,
   "metadata": {},
   "outputs": [
    {
     "data": {
      "text/plain": [
       "array([0., 0., 0., ..., 0., 0., 0.])"
      ]
     },
     "execution_count": 33,
     "metadata": {},
     "output_type": "execute_result"
    }
   ],
   "source": [
    "obs"
   ]
  },
  {
   "cell_type": "code",
   "execution_count": 42,
   "metadata": {},
   "outputs": [],
   "source": [
    "obs_flat = obs.reshape((-1, total_size))"
   ]
  },
  {
   "cell_type": "code",
   "execution_count": 43,
   "metadata": {},
   "outputs": [
    {
     "data": {
      "text/plain": [
       "((21060,), (1, 21060))"
      ]
     },
     "execution_count": 43,
     "metadata": {},
     "output_type": "execute_result"
    }
   ],
   "source": [
    "obs.shape, obs_flat.shape"
   ]
  },
  {
   "cell_type": "code",
   "execution_count": 44,
   "metadata": {},
   "outputs": [],
   "source": [
    "input_size = 12*1323"
   ]
  },
  {
   "cell_type": "code",
   "execution_count": 45,
   "metadata": {},
   "outputs": [
    {
     "data": {
      "text/plain": [
       "((1, 21060), (1, 15876))"
      ]
     },
     "execution_count": 45,
     "metadata": {},
     "output_type": "execute_result"
    }
   ],
   "source": [
    "obs_flat.shape, obs_flat[:, -input_size:].shape"
   ]
  },
  {
   "cell_type": "code",
   "execution_count": 40,
   "metadata": {},
   "outputs": [],
   "source": [
    "for i in range(len(obs)):\n",
    "    obs[i] = i"
   ]
  },
  {
   "cell_type": "code",
   "execution_count": 51,
   "metadata": {},
   "outputs": [
    {
     "data": {
      "text/plain": [
       "15876"
      ]
     },
     "execution_count": 51,
     "metadata": {},
     "output_type": "execute_result"
    }
   ],
   "source": [
    "len(obs_flat[:, -input_size:][0])"
   ]
  },
  {
   "cell_type": "code",
   "execution_count": 56,
   "metadata": {},
   "outputs": [],
   "source": [
    " ttttt = np.ones((10)) * np.nan"
   ]
  },
  {
   "cell_type": "code",
   "execution_count": 57,
   "metadata": {},
   "outputs": [
    {
     "data": {
      "text/plain": [
       "array([nan, nan, nan, nan, nan, nan, nan, nan, nan, nan])"
      ]
     },
     "execution_count": 57,
     "metadata": {},
     "output_type": "execute_result"
    }
   ],
   "source": [
    "ttttt"
   ]
  },
  {
   "cell_type": "code",
   "execution_count": 58,
   "metadata": {},
   "outputs": [
    {
     "name": "stdout",
     "output_type": "stream",
     "text": [
      "torch.Size([4, 4]) torch.Size([16]) torch.Size([2, 8])\n"
     ]
    }
   ],
   "source": [
    "import torch\n",
    "x = torch.randn(4, 4)\n",
    "y = x.view(16)\n",
    "z = x.view(-1, 8)\n",
    "print(x.size(), y.size(), z.size())"
   ]
  },
  {
   "cell_type": "code",
   "execution_count": 2,
   "metadata": {},
   "outputs": [
    {
     "name": "stderr",
     "output_type": "stream",
     "text": [
      "No handles with labels found to put in legend.\n"
     ]
    },
    {
     "data": {
      "image/png": "[encoded data removed]",
      "text/plain": [
       "<Figure size 432x288 with 1 Axes>"
      ]
     },
     "metadata": {
      "needs_background": "light"
     },
     "output_type": "display_data"
    }
   ],
   "source": [
    "import matplotlib.pyplot as plt\n",
    "import numpy as np\n",
    "\n",
    "x1 = [1,2,11,20,6,9]\n",
    "y1 = [3,7,10,20,16,30]\n",
    "\n",
    "x2 = [5,7,1,6,9,2]\n",
    "y2 = [3,8,10,23,4,32]\n",
    "\n",
    "plt.title('two scatter')\n",
    "plt.scatter(x1, y1, marker='s', c='r')\n",
    "plt.scatter(x2, y2, marker='*', c='b')\n",
    "\n",
    "plt.xlabel('X Data')\n",
    "plt.ylabel('Y Data')\n",
    "\n",
    "plt.legend()\n",
    "\n",
    "plt.grid(True)\n",
    "plt.show()\n"
   ]
  },
  {
   "cell_type": "code",
   "execution_count": 5,
   "metadata": {},
   "outputs": [
    {
     "data": {
      "image/png": "[encoded data removed]",
      "text/plain": [
       "<Figure size 432x288 with 1 Axes>"
      ]
     },
     "metadata": {
      "needs_background": "light"
     },
     "output_type": "display_data"
    }
   ],
   "source": [
    "x1 = [1,2,11,20,6,9]\n",
    "y1 = [3,7,10,20,16,30]\n",
    "\n",
    "bboxType = dict(boxstyle=\"round4\", alpha=0.8, fc='w')\n",
    "\n",
    "arrow = dict(arrowstyle='-|>', connectionstyle='arc3,rad=0.2',fc=\"w\")\n",
    "\n",
    "plt.title('annotation')\n",
    "plt.scatter(x1,y1,marker='*', c='r', s=40)\n",
    "\n",
    "plt.annotate('here!!', xy=(11,10), xytext=(15,15), size=20,\n",
    "             ha='center', va='center', arrowprops=arrow, bbox = bboxType)\n",
    "\n",
    "plt.grid(True)\n",
    "plt.show()"
   ]
  },
  {
   "cell_type": "code",
   "execution_count": 9,
   "metadata": {},
   "outputs": [],
   "source": [
    "import pandas as pd\n",
    "import numpy as np"
   ]
  },
  {
   "cell_type": "code",
   "execution_count": 11,
   "metadata": {},
   "outputs": [
    {
     "name": "stdout",
     "output_type": "stream",
     "text": [
      "numpy.matrix : \n",
      " [[1 3]\n",
      " [2 5]]\n",
      "pandas DataFrame : \n",
      "    0  1\n",
      "0  1  3\n",
      "1  2  5\n"
     ]
    }
   ],
   "source": [
    "matrix = np.matrix([[1,3],[2,5]])\n",
    "print(\"numpy.matrix : \\n\", matrix)\n",
    "\n",
    "df = pd.DataFrame([[1,3],[2,5]])\n",
    "print(\"pandas DataFrame : \\n\",df)"
   ]
  },
  {
   "cell_type": "code",
   "execution_count": 15,
   "metadata": {},
   "outputs": [
    {
     "name": "stdout",
     "output_type": "stream",
     "text": [
      "A의 수학 성적 :  1\n",
      "   math  computer\n",
      "A     1         3\n",
      "B     2         5\n",
      "A의 수학 성적 :  1\n"
     ]
    }
   ],
   "source": [
    "matrix = np.matrix([[1,3],[2,5]])\n",
    "print(\"A의 수학 성적 : \", matrix[0,0])\n",
    "\n",
    "df = pd.DataFrame([[1,3],[2,5]],\n",
    "                  columns = [\"math\",\"computer\"], index = [\"A\",\"B\"])\n",
    "print(df)\n",
    "print(\"A의 수학 성적 : \", df.loc[\"A\",\"math\"])"
   ]
  },
  {
   "cell_type": "code",
   "execution_count": 14,
   "metadata": {},
   "outputs": [
    {
     "data": {
      "text/plain": [
       "<matplotlib.axes._subplots.AxesSubplot at 0x123a8f3c8>"
      ]
     },
     "execution_count": 14,
     "metadata": {},
     "output_type": "execute_result"
    },
    {
     "data": {
      "image/png": "[encoded data removed]",
      "text/plain": [
       "<Figure size 432x288 with 1 Axes>"
      ]
     },
     "metadata": {
      "needs_background": "light"
     },
     "output_type": "display_data"
    },
    {
     "data": {
      "image/png": "[encoded data removed]",
      "text/plain": [
       "<Figure size 432x288 with 1 Axes>"
      ]
     },
     "metadata": {
      "needs_background": "light"
     },
     "output_type": "display_data"
    },
    {
     "data": {
      "image/png": "[encoded data removed]",
      "text/plain": [
       "<Figure size 432x288 with 1 Axes>"
      ]
     },
     "metadata": {
      "needs_background": "light"
     },
     "output_type": "display_data"
    }
   ],
   "source": [
    "df.plot.bar()\n",
    "df.plot.line()\n",
    "df.plot.box()"
   ]
  },
  {
   "cell_type": "code",
   "execution_count": 16,
   "metadata": {},
   "outputs": [],
   "source": [
    "from sklearn.datasets import load_iris"
   ]
  },
  {
   "cell_type": "code",
   "execution_count": 18,
   "metadata": {},
   "outputs": [
    {
     "name": "stdout",
     "output_type": "stream",
     "text": [
      "data의 타입 :  <class 'numpy.ndarray'>\n",
      "   sepal length (cm)  sepal width (cm)  petal length (cm)  petal width (cm)  \\\n",
      "0                5.1               3.5                1.4               0.2   \n",
      "1                4.9               3.0                1.4               0.2   \n",
      "2                4.7               3.2                1.3               0.2   \n",
      "3                4.6               3.1                1.5               0.2   \n",
      "4                5.0               3.6                1.4               0.2   \n",
      "\n",
      "   label  \n",
      "0      0  \n",
      "1      0  \n",
      "2      0  \n",
      "3      0  \n",
      "4      0  \n"
     ]
    }
   ],
   "source": [
    "iris = load_iris()\n",
    "data = iris['data']\n",
    "feature = iris['feature_names']\n",
    "label = iris['target']\n",
    "\n",
    "print(\"data의 타입 : \", type(data))\n",
    "\n",
    "iris_df = pd.DataFrame(data,columns=feature)\n",
    "iris_df.loc[:,\"label\"] = label\n",
    "print(iris_df.head())"
   ]
  },
  {
   "cell_type": "code",
   "execution_count": 22,
   "metadata": {},
   "outputs": [
    {
     "data": {
      "text/plain": [
       "<matplotlib.axes._subplots.AxesSubplot at 0x135e02ba8>"
      ]
     },
     "execution_count": 22,
     "metadata": {},
     "output_type": "execute_result"
    },
    {
     "data": {
      "image/png": "[encoded data removed]",
      "text/plain": [
       "<Figure size 432x288 with 1 Axes>"
      ]
     },
     "metadata": {
      "needs_background": "light"
     },
     "output_type": "display_data"
    }
   ],
   "source": [
    "iris_df.plot.scatter(x=\"sepal length (cm)\", y = \"label\")\n",
    "# ax = iris_df[\"sepal length(cm)\"].plot.line(color = 'green')\n",
    "# ax2 = iris_df[\"sepal length2(cm)\"].plot.line(color = 'green')"
   ]
  },
  {
   "cell_type": "code",
   "execution_count": 28,
   "metadata": {},
   "outputs": [
    {
     "data": {
      "text/plain": [
       "<matplotlib.legend.Legend at 0x123b6e320>"
      ]
     },
     "execution_count": 28,
     "metadata": {},
     "output_type": "execute_result"
    },
    {
     "data": {
      "image/png": "[encoded data removed]",
      "text/plain": [
       "<Figure size 432x288 with 1 Axes>"
      ]
     },
     "metadata": {
      "needs_background": "light"
     },
     "output_type": "display_data"
    }
   ],
   "source": [
    "ax = iris_df[\"sepal length (cm)\"].plot.line(color = 'green')\n",
    "ax.set_xticks(iris_df.index[0::10])\n",
    "ax.set_xticklabels(iris_df.index[0::10],rotation = 45)\n",
    "ax.set_ylabel(\"length(cm)\")\n",
    "ax.legend()"
   ]
  },
  {
   "cell_type": "code",
   "execution_count": 30,
   "metadata": {},
   "outputs": [],
   "source": [
    "import configparser\n"
   ]
  },
  {
   "cell_type": "code",
   "execution_count": 31,
   "metadata": {},
   "outputs": [],
   "source": [
    "config = configparser.ConfigParser()\n"
   ]
  },
  {
   "cell_type": "code",
   "execution_count": 73,
   "metadata": {},
   "outputs": [
    {
     "data": {
      "text/plain": [
       "['../dash-dtpm-drm/config_file.ini']"
      ]
     },
     "execution_count": 73,
     "metadata": {},
     "output_type": "execute_result"
    }
   ],
   "source": [
    "config.read('../dash-dtpm-drm/config_file.ini')"
   ]
  },
  {
   "cell_type": "code",
   "execution_count": 75,
   "metadata": {},
   "outputs": [
    {
     "data": {
      "text/plain": [
       "False"
      ]
     },
     "execution_count": 75,
     "metadata": {},
     "output_type": "execute_result"
    }
   ],
   "source": [
    "config.getboolean('DEBUG','debug_job')"
   ]
  },
  {
   "cell_type": "code",
   "execution_count": 70,
   "metadata": {},
   "outputs": [
    {
     "data": {
      "text/plain": [
       "['TRACE',\n",
       " 'POWER MANAGEMENT',\n",
       " 'SIMULATION MODE',\n",
       " 'COMMUNICATION MODE',\n",
       " 'DEBUG',\n",
       " 'INFO']"
      ]
     },
     "execution_count": 70,
     "metadata": {},
     "output_type": "execute_result"
    }
   ],
   "source": [
    "config.sections()"
   ]
  },
  {
   "cell_type": "code",
   "execution_count": 9,
   "metadata": {},
   "outputs": [],
   "source": [
    "import numpy as np\n",
    "import torch"
   ]
  },
  {
   "cell_type": "code",
   "execution_count": 73,
   "metadata": {},
   "outputs": [],
   "source": [
    "zo = torch.cat((a,b),1)"
   ]
  },
  {
   "cell_type": "code",
   "execution_count": 74,
   "metadata": {},
   "outputs": [
    {
     "data": {
      "text/plain": [
       "tensor([[  0.,   1.,   2.,   3.,   0.,   1.,   2.,   3.,   4.,   5.,   6.,   7.,\n",
       "           8.,   9.,  10.,  11.,  12.,  13.,  14.,  15.],\n",
       "        [  4.,   5.,   6.,   7.,  16.,  17.,  18.,  19.,  20.,  21.,  22.,  23.,\n",
       "          24.,  25.,  26.,  27.,  28.,  29.,  30.,  31.],\n",
       "        [  8.,   9.,  10.,  11.,  32.,  33.,  34.,  35.,  36.,  37.,  38.,  39.,\n",
       "          40.,  41.,  42.,  43.,  44.,  45.,  46.,  47.],\n",
       "        [ 12.,  13.,  14.,  15.,  48.,  49.,  50.,  51.,  52.,  53.,  54.,  55.,\n",
       "          56.,  57.,  58.,  59.,  60.,  61.,  62.,  63.],\n",
       "        [ 16.,  17.,  18.,  19.,  64.,  65.,  66.,  67.,  68.,  69.,  70.,  71.,\n",
       "          72.,  73.,  74.,  75.,  76.,  77.,  78.,  79.],\n",
       "        [ 20.,  21.,  22.,  23.,  80.,  81.,  82.,  83.,  84.,  85.,  86.,  87.,\n",
       "          88.,  89.,  90.,  91.,  92.,  93.,  94.,  95.],\n",
       "        [ 24.,  25.,  26.,  27.,  96.,  97.,  98.,  99., 100., 101., 102., 103.,\n",
       "         104., 105., 106., 107., 108., 109., 110., 111.],\n",
       "        [ 28.,  29.,  30.,  31., 112., 113., 114., 115., 116., 117., 118., 119.,\n",
       "         120., 121., 122., 123., 124., 125., 126., 127.],\n",
       "        [ 32.,  33.,  34.,  35., 128., 129., 130., 131., 132., 133., 134., 135.,\n",
       "         136., 137., 138., 139., 140., 141., 142., 143.],\n",
       "        [ 36.,  37.,  38.,  39., 144., 145., 146., 147., 148., 149., 150., 151.,\n",
       "         152., 153., 154., 155., 156., 157., 158., 159.],\n",
       "        [ 40.,  41.,  42.,  43., 160., 161., 162., 163., 164., 165., 166., 167.,\n",
       "         168., 169., 170., 171., 172., 173., 174., 175.],\n",
       "        [ 44.,  45.,  46.,  47., 176., 177., 178., 179., 180., 181., 182., 183.,\n",
       "         184., 185., 186., 187., 188., 189., 190., 191.],\n",
       "        [ 48.,  49.,  50.,  51., 192., 193., 194., 195., 196., 197., 198., 199.,\n",
       "         200., 201., 202., 203., 204., 205., 206., 207.],\n",
       "        [ 52.,  53.,  54.,  55., 208., 209., 210., 211., 212., 213., 214., 215.,\n",
       "         216., 217., 218., 219., 220., 221., 222., 223.],\n",
       "        [ 56.,  57.,  58.,  59., 224., 225., 226., 227., 228., 229., 230., 231.,\n",
       "         232., 233., 234., 235., 236., 237., 238., 239.],\n",
       "        [ 60.,  61.,  62.,  63., 240., 241., 242., 243., 244., 245., 246., 247.,\n",
       "         248., 249., 250., 251., 252., 253., 254., 255.],\n",
       "        [ 64.,  65.,  66.,  67., 256., 257., 258., 259., 260., 261., 262., 263.,\n",
       "         264., 265., 266., 267., 268., 269., 270., 271.],\n",
       "        [ 68.,  69.,  70.,  71., 272., 273., 274., 275., 276., 277., 278., 279.,\n",
       "         280., 281., 282., 283., 284., 285., 286., 287.],\n",
       "        [ 72.,  73.,  74.,  75., 288., 289., 290., 291., 292., 293., 294., 295.,\n",
       "         296., 297., 298., 299., 300., 301., 302., 303.],\n",
       "        [ 76.,  77.,  78.,  79., 304., 305., 306., 307., 308., 309., 310., 311.,\n",
       "         312., 313., 314., 315., 316., 317., 318., 319.],\n",
       "        [ 80.,  81.,  82.,  83., 320., 321., 322., 323., 324., 325., 326., 327.,\n",
       "         328., 329., 330., 331., 332., 333., 334., 335.],\n",
       "        [ 84.,  85.,  86.,  87., 336., 337., 338., 339., 340., 341., 342., 343.,\n",
       "         344., 345., 346., 347., 348., 349., 350., 351.],\n",
       "        [ 88.,  89.,  90.,  91., 352., 353., 354., 355., 356., 357., 358., 359.,\n",
       "         360., 361., 362., 363., 364., 365., 366., 367.],\n",
       "        [ 92.,  93.,  94.,  95., 368., 369., 370., 371., 372., 373., 374., 375.,\n",
       "         376., 377., 378., 379., 380., 381., 382., 383.],\n",
       "        [ 96.,  97.,  98.,  99., 384., 385., 386., 387., 388., 389., 390., 391.,\n",
       "         392., 393., 394., 395., 396., 397., 398., 399.],\n",
       "        [100., 101., 102., 103., 400., 401., 402., 403., 404., 405., 406., 407.,\n",
       "         408., 409., 410., 411., 412., 413., 414., 415.],\n",
       "        [104., 105., 106., 107., 416., 417., 418., 419., 420., 421., 422., 423.,\n",
       "         424., 425., 426., 427., 428., 429., 430., 431.]])"
      ]
     },
     "execution_count": 74,
     "metadata": {},
     "output_type": "execute_result"
    }
   ],
   "source": [
    "zo"
   ]
  },
  {
   "cell_type": "code",
   "execution_count": null,
   "metadata": {},
   "outputs": [],
   "source": []
  }
 ],
 "metadata": {
  "kernelspec": {
   "display_name": "reinforce",
   "language": "python",
   "name": "reinforce"
  },
  "language_info": {
   "codemirror_mode": {
    "name": "ipython",
    "version": 3
   },
   "file_extension": ".py",
   "mimetype": "text/x-python",
   "name": "python",
   "nbconvert_exporter": "python",
   "pygments_lexer": "ipython3",
   "version": "3.7.3"
  }
 },
 "nbformat": 4,
 "nbformat_minor": 2
}
