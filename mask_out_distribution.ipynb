{
 "cells": [
  {
   "cell_type": "code",
   "execution_count": 1,
   "metadata": {},
   "outputs": [],
   "source": [
    "import numpy as np\n",
    "import torch"
   ]
  },
  {
   "cell_type": "code",
   "execution_count": 2,
   "metadata": {},
   "outputs": [],
   "source": [
    "mat = np.random.random((10,10))\n",
    "# mat = torch.tensor(dist, dtype=torch.float)"
   ]
  },
  {
   "cell_type": "code",
   "execution_count": 3,
   "metadata": {},
   "outputs": [],
   "source": [
    "mask = np.zeros((10,10))\n",
    "for i in range(8): \n",
    "    for ii in range(7):\n",
    "        mask[i][ii] = 1\n",
    "# mask = torch.tensor(mask, dtype=torch.float)"
   ]
  },
  {
   "cell_type": "code",
   "execution_count": 4,
   "metadata": {},
   "outputs": [
    {
     "data": {
      "text/plain": [
       "(array([[0.291057  , 0.18126351, 0.72779764, 0.273392  , 0.35352037,\n",
       "         0.8510844 , 0.07952439, 0.66787585, 0.28648662, 0.95905292],\n",
       "        [0.04853411, 0.03165979, 0.96655152, 0.51222269, 0.20851903,\n",
       "         0.01652812, 0.25699005, 0.62277403, 0.1697422 , 0.96488752],\n",
       "        [0.58566378, 0.5952325 , 0.71536619, 0.38592436, 0.43442832,\n",
       "         0.99055624, 0.35896679, 0.86757931, 0.23849512, 0.3020219 ],\n",
       "        [0.92467172, 0.82214001, 0.37244432, 0.72303856, 0.28130954,\n",
       "         0.87313446, 0.39355178, 0.23241097, 0.22814649, 0.95502596],\n",
       "        [0.32339535, 0.62021836, 0.06351888, 0.34196225, 0.28242452,\n",
       "         0.82883144, 0.96837936, 0.95840717, 0.80283195, 0.90688701],\n",
       "        [0.13548336, 0.89732148, 0.19553025, 0.06366457, 0.0823818 ,\n",
       "         0.40707853, 0.85735843, 0.21042243, 0.32024393, 0.23310713],\n",
       "        [0.28130165, 0.23387804, 0.58376427, 0.85874237, 0.24250377,\n",
       "         0.17860155, 0.49190912, 0.76150529, 0.90065799, 0.18299412],\n",
       "        [0.93025542, 0.70722274, 0.88696824, 0.73386198, 0.61450264,\n",
       "         0.12314068, 0.80117373, 0.89621036, 0.37590902, 0.05889542],\n",
       "        [0.61805994, 0.7061179 , 0.47996297, 0.56318376, 0.24026066,\n",
       "         0.90225263, 0.67022383, 0.97623014, 0.40206518, 0.32601033],\n",
       "        [0.24162179, 0.46558712, 0.21818801, 0.74322192, 0.91099252,\n",
       "         0.75762923, 0.77580756, 0.4419744 , 0.74200256, 0.64379598]]),\n",
       " array([[1., 1., 1., 1., 1., 1., 1., 0., 0., 0.],\n",
       "        [1., 1., 1., 1., 1., 1., 1., 0., 0., 0.],\n",
       "        [1., 1., 1., 1., 1., 1., 1., 0., 0., 0.],\n",
       "        [1., 1., 1., 1., 1., 1., 1., 0., 0., 0.],\n",
       "        [1., 1., 1., 1., 1., 1., 1., 0., 0., 0.],\n",
       "        [1., 1., 1., 1., 1., 1., 1., 0., 0., 0.],\n",
       "        [1., 1., 1., 1., 1., 1., 1., 0., 0., 0.],\n",
       "        [1., 1., 1., 1., 1., 1., 1., 0., 0., 0.],\n",
       "        [0., 0., 0., 0., 0., 0., 0., 0., 0., 0.],\n",
       "        [0., 0., 0., 0., 0., 0., 0., 0., 0., 0.]]))"
      ]
     },
     "execution_count": 4,
     "metadata": {},
     "output_type": "execute_result"
    }
   ],
   "source": [
    "mat, mask"
   ]
  },
  {
   "cell_type": "code",
   "execution_count": 51,
   "metadata": {},
   "outputs": [],
   "source": [
    "# dist = torch.exp(mat)\n",
    "# dist"
   ]
  },
  {
   "cell_type": "code",
   "execution_count": 52,
   "metadata": {},
   "outputs": [],
   "source": [
    "# dist.multinomial(num_samples=1)"
   ]
  },
  {
   "cell_type": "code",
   "execution_count": 54,
   "metadata": {},
   "outputs": [
    {
     "data": {
      "text/plain": [
       "array([[0.89148003, 0.32850352, 0.44024425, 0.40775845, 0.88376463,\n",
       "        0.80675569, 0.94119437, 0.        , 0.        , 0.        ],\n",
       "       [0.27763064, 0.63379166, 0.78325036, 0.07566133, 0.02367148,\n",
       "        0.21385544, 0.47559078, 0.        , 0.        , 0.        ],\n",
       "       [0.69929315, 0.70063702, 0.24783882, 0.72345597, 0.32574058,\n",
       "        0.2977381 , 0.38432996, 0.        , 0.        , 0.        ],\n",
       "       [0.46284557, 0.53134699, 0.768517  , 0.55559356, 0.68216615,\n",
       "        0.07217367, 0.9505006 , 0.        , 0.        , 0.        ],\n",
       "       [0.96467249, 0.91145274, 0.41826669, 0.3862651 , 0.98847964,\n",
       "        0.19393499, 0.15118063, 0.        , 0.        , 0.        ],\n",
       "       [0.90601128, 0.93348558, 0.94495637, 0.82959234, 0.1973604 ,\n",
       "        0.92139937, 0.94175747, 0.        , 0.        , 0.        ],\n",
       "       [0.07244663, 0.23536695, 0.86204711, 0.61182881, 0.1119726 ,\n",
       "        0.62699342, 0.44556676, 0.        , 0.        , 0.        ],\n",
       "       [0.0840237 , 0.96975959, 0.58698659, 0.32555653, 0.09725596,\n",
       "        0.71231774, 0.49366006, 0.        , 0.        , 0.        ],\n",
       "       [0.        , 0.        , 0.        , 0.        , 0.        ,\n",
       "        0.        , 0.        , 0.        , 0.        , 0.        ],\n",
       "       [0.        , 0.        , 0.        , 0.        , 0.        ,\n",
       "        0.        , 0.        , 0.        , 0.        , 0.        ]])"
      ]
     },
     "execution_count": 54,
     "metadata": {},
     "output_type": "execute_result"
    }
   ],
   "source": [
    "new_mat = np.multiply(mat, mask)\n",
    "new_mat"
   ]
  },
  {
   "cell_type": "code",
   "execution_count": 57,
   "metadata": {},
   "outputs": [],
   "source": [
    "for i in range(len(new_mat)):\n",
    "    for ii in range(len(new_mat[i])):\n",
    "        if new_mat[i][ii] == 0:\n",
    "            new_mat[i][ii] = float('inf')"
   ]
  },
  {
   "cell_type": "code",
   "execution_count": 58,
   "metadata": {},
   "outputs": [
    {
     "data": {
      "text/plain": [
       "array([[0.89148003, 0.32850352, 0.44024425, 0.40775845, 0.88376463,\n",
       "        0.80675569, 0.94119437,        inf,        inf,        inf],\n",
       "       [0.27763064, 0.63379166, 0.78325036, 0.07566133, 0.02367148,\n",
       "        0.21385544, 0.47559078,        inf,        inf,        inf],\n",
       "       [0.69929315, 0.70063702, 0.24783882, 0.72345597, 0.32574058,\n",
       "        0.2977381 , 0.38432996,        inf,        inf,        inf],\n",
       "       [0.46284557, 0.53134699, 0.768517  , 0.55559356, 0.68216615,\n",
       "        0.07217367, 0.9505006 ,        inf,        inf,        inf],\n",
       "       [0.96467249, 0.91145274, 0.41826669, 0.3862651 , 0.98847964,\n",
       "        0.19393499, 0.15118063,        inf,        inf,        inf],\n",
       "       [0.90601128, 0.93348558, 0.94495637, 0.82959234, 0.1973604 ,\n",
       "        0.92139937, 0.94175747,        inf,        inf,        inf],\n",
       "       [0.07244663, 0.23536695, 0.86204711, 0.61182881, 0.1119726 ,\n",
       "        0.62699342, 0.44556676,        inf,        inf,        inf],\n",
       "       [0.0840237 , 0.96975959, 0.58698659, 0.32555653, 0.09725596,\n",
       "        0.71231774, 0.49366006,        inf,        inf,        inf],\n",
       "       [       inf,        inf,        inf,        inf,        inf,\n",
       "               inf,        inf,        inf,        inf,        inf],\n",
       "       [       inf,        inf,        inf,        inf,        inf,\n",
       "               inf,        inf,        inf,        inf,        inf]])"
      ]
     },
     "execution_count": 58,
     "metadata": {},
     "output_type": "execute_result"
    }
   ],
   "source": [
    "new_mat"
   ]
  },
  {
   "cell_type": "code",
   "execution_count": 59,
   "metadata": {},
   "outputs": [],
   "source": [
    "new_mat_t = torch.tensor(new_mat, dtype=torch.float)"
   ]
  },
  {
   "cell_type": "code",
   "execution_count": 61,
   "metadata": {},
   "outputs": [],
   "source": [
    "dist_t = torch.exp(new_mat_t)"
   ]
  },
  {
   "cell_type": "code",
   "execution_count": 62,
   "metadata": {},
   "outputs": [
    {
     "ename": "RuntimeError",
     "evalue": "invalid argument 2: invalid multinomial distribution (encountering probability entry = infinity or NaN) at /Users/soumith/b101_2/2019_02_08/wheel_build_dirs/wheel_3.6/pytorch/aten/src/TH/generic/THTensorRandom.cpp:302",
     "output_type": "error",
     "traceback": [
      "\u001b[0;31m---------------------------------------------------------------------------\u001b[0m",
      "\u001b[0;31mRuntimeError\u001b[0m                              Traceback (most recent call last)",
      "\u001b[0;32m<ipython-input-62-a58eaee3c1cf>\u001b[0m in \u001b[0;36m<module>\u001b[0;34m\u001b[0m\n\u001b[0;32m----> 1\u001b[0;31m \u001b[0mdist_t\u001b[0m\u001b[0;34m.\u001b[0m\u001b[0mmultinomial\u001b[0m\u001b[0;34m(\u001b[0m\u001b[0mnum_samples\u001b[0m\u001b[0;34m=\u001b[0m\u001b[0;36m1\u001b[0m\u001b[0;34m)\u001b[0m\u001b[0;34m\u001b[0m\u001b[0;34m\u001b[0m\u001b[0m\n\u001b[0m",
      "\u001b[0;31mRuntimeError\u001b[0m: invalid argument 2: invalid multinomial distribution (encountering probability entry = infinity or NaN) at /Users/soumith/b101_2/2019_02_08/wheel_build_dirs/wheel_3.6/pytorch/aten/src/TH/generic/THTensorRandom.cpp:302"
     ]
    }
   ],
   "source": [
    "dist_t.multinomial(num_samples=1)"
   ]
  },
  {
   "cell_type": "code",
   "execution_count": null,
   "metadata": {},
   "outputs": [],
   "source": []
  }
 ],
 "metadata": {
  "kernelspec": {
   "display_name": "reinforce",
   "language": "python",
   "name": "reinforce"
  },
  "language_info": {
   "codemirror_mode": {
    "name": "ipython",
    "version": 3
   },
   "file_extension": ".py",
   "mimetype": "text/x-python",
   "name": "python",
   "nbconvert_exporter": "python",
   "pygments_lexer": "ipython3",
   "version": "3.6.7"
  }
 },
 "nbformat": 4,
 "nbformat_minor": 2
}
