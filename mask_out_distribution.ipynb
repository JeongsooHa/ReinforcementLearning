{
 "cells": [
  {
   "cell_type": "code",
   "execution_count": 1,
   "metadata": {},
   "outputs": [],
   "source": [
    "import numpy as np\n",
    "import torch"
   ]
  },
  {
   "cell_type": "code",
   "execution_count": 2,
   "metadata": {},
   "outputs": [],
   "source": [
    "mat = np.random.random((16,10))\n",
    "# mat = torch.tensor(dist, dtype=torch.float)"
   ]
  },
  {
   "cell_type": "code",
   "execution_count": 3,
   "metadata": {},
   "outputs": [],
   "source": [
    "mask = np.zeros((10,10))\n",
    "for i in range(8): \n",
    "    for ii in range(7):\n",
    "        mask[i][ii] = 1\n",
    "# mask = torch.tensor(mask, dtype=torch.float)"
   ]
  },
  {
   "cell_type": "code",
   "execution_count": 4,
   "metadata": {},
   "outputs": [
    {
     "data": {
      "text/plain": [
       "(array([[0.76999196, 0.60062618, 0.64705546, 0.61318547, 0.74351238,\n",
       "         0.98766363, 0.89587192, 0.84966197, 0.79080416, 0.50125411],\n",
       "        [0.80416935, 0.50852424, 0.05858132, 0.61499884, 0.60993858,\n",
       "         0.15169379, 0.23373854, 0.70938153, 0.40179558, 0.12354949],\n",
       "        [0.50658287, 0.86694389, 0.95628939, 0.53312892, 0.66302756,\n",
       "         0.43026774, 0.34213961, 0.01612412, 0.37057024, 0.39477213],\n",
       "        [0.75143257, 0.18211303, 0.91560043, 0.44799392, 0.74123455,\n",
       "         0.69080395, 0.45455177, 0.49371294, 0.08136632, 0.91429785],\n",
       "        [0.0232368 , 0.50001639, 0.52186349, 0.41890703, 0.56139752,\n",
       "         0.07400649, 0.01502371, 0.58036401, 0.60491398, 0.54126096],\n",
       "        [0.01889308, 0.06554541, 0.1660194 , 0.02484215, 0.03861525,\n",
       "         0.86697097, 0.00099624, 0.10496223, 0.4082879 , 0.27602715],\n",
       "        [0.15245346, 0.24870845, 0.65147483, 0.20211599, 0.33255907,\n",
       "         0.71314997, 0.1217749 , 0.34511279, 0.79423561, 0.55621824],\n",
       "        [0.84471608, 0.13156841, 0.16156194, 0.11432364, 0.70661797,\n",
       "         0.85232268, 0.8229702 , 0.60192839, 0.74155056, 0.59166528],\n",
       "        [0.30059369, 0.81341041, 0.21361   , 0.6166652 , 0.76142789,\n",
       "         0.64353248, 0.96367219, 0.36107568, 0.60898629, 0.0988355 ],\n",
       "        [0.91937882, 0.22948705, 0.66211817, 0.24249736, 0.27574331,\n",
       "         0.20423639, 0.31645666, 0.03574871, 0.76355178, 0.43836738]]),\n",
       " array([[1., 1., 1., 1., 1., 1., 1., 0., 0., 0.],\n",
       "        [1., 1., 1., 1., 1., 1., 1., 0., 0., 0.],\n",
       "        [1., 1., 1., 1., 1., 1., 1., 0., 0., 0.],\n",
       "        [1., 1., 1., 1., 1., 1., 1., 0., 0., 0.],\n",
       "        [1., 1., 1., 1., 1., 1., 1., 0., 0., 0.],\n",
       "        [1., 1., 1., 1., 1., 1., 1., 0., 0., 0.],\n",
       "        [1., 1., 1., 1., 1., 1., 1., 0., 0., 0.],\n",
       "        [1., 1., 1., 1., 1., 1., 1., 0., 0., 0.],\n",
       "        [0., 0., 0., 0., 0., 0., 0., 0., 0., 0.],\n",
       "        [0., 0., 0., 0., 0., 0., 0., 0., 0., 0.]]))"
      ]
     },
     "execution_count": 4,
     "metadata": {},
     "output_type": "execute_result"
    }
   ],
   "source": [
    "mat, mask"
   ]
  },
  {
   "cell_type": "code",
   "execution_count": 5,
   "metadata": {},
   "outputs": [],
   "source": [
    "# dist = torch.exp(mat)\n",
    "# dist"
   ]
  },
  {
   "cell_type": "code",
   "execution_count": 6,
   "metadata": {},
   "outputs": [],
   "source": [
    "# dist.multinomial(num_samples=1)"
   ]
  },
  {
   "cell_type": "code",
   "execution_count": 7,
   "metadata": {},
   "outputs": [
    {
     "data": {
      "text/plain": [
       "array([[0.76999196, 0.60062618, 0.64705546, 0.61318547, 0.74351238,\n",
       "        0.98766363, 0.89587192, 0.        , 0.        , 0.        ],\n",
       "       [0.80416935, 0.50852424, 0.05858132, 0.61499884, 0.60993858,\n",
       "        0.15169379, 0.23373854, 0.        , 0.        , 0.        ],\n",
       "       [0.50658287, 0.86694389, 0.95628939, 0.53312892, 0.66302756,\n",
       "        0.43026774, 0.34213961, 0.        , 0.        , 0.        ],\n",
       "       [0.75143257, 0.18211303, 0.91560043, 0.44799392, 0.74123455,\n",
       "        0.69080395, 0.45455177, 0.        , 0.        , 0.        ],\n",
       "       [0.0232368 , 0.50001639, 0.52186349, 0.41890703, 0.56139752,\n",
       "        0.07400649, 0.01502371, 0.        , 0.        , 0.        ],\n",
       "       [0.01889308, 0.06554541, 0.1660194 , 0.02484215, 0.03861525,\n",
       "        0.86697097, 0.00099624, 0.        , 0.        , 0.        ],\n",
       "       [0.15245346, 0.24870845, 0.65147483, 0.20211599, 0.33255907,\n",
       "        0.71314997, 0.1217749 , 0.        , 0.        , 0.        ],\n",
       "       [0.84471608, 0.13156841, 0.16156194, 0.11432364, 0.70661797,\n",
       "        0.85232268, 0.8229702 , 0.        , 0.        , 0.        ],\n",
       "       [0.        , 0.        , 0.        , 0.        , 0.        ,\n",
       "        0.        , 0.        , 0.        , 0.        , 0.        ],\n",
       "       [0.        , 0.        , 0.        , 0.        , 0.        ,\n",
       "        0.        , 0.        , 0.        , 0.        , 0.        ]])"
      ]
     },
     "execution_count": 7,
     "metadata": {},
     "output_type": "execute_result"
    }
   ],
   "source": [
    "new_mat = np.multiply(mat, mask)\n",
    "new_mat"
   ]
  },
  {
   "cell_type": "code",
   "execution_count": 8,
   "metadata": {},
   "outputs": [],
   "source": [
    "# for i in range(len(new_mat)):\n",
    "#     for ii in range(len(new_mat[i])):\n",
    "#         if new_mat[i][ii] == 0:\n",
    "#             new_mat[i][ii] = float('inf')"
   ]
  },
  {
   "cell_type": "code",
   "execution_count": 9,
   "metadata": {},
   "outputs": [
    {
     "data": {
      "text/plain": [
       "array([[0.76999196, 0.60062618, 0.64705546, 0.61318547, 0.74351238,\n",
       "        0.98766363, 0.89587192, 0.        , 0.        , 0.        ],\n",
       "       [0.80416935, 0.50852424, 0.05858132, 0.61499884, 0.60993858,\n",
       "        0.15169379, 0.23373854, 0.        , 0.        , 0.        ],\n",
       "       [0.50658287, 0.86694389, 0.95628939, 0.53312892, 0.66302756,\n",
       "        0.43026774, 0.34213961, 0.        , 0.        , 0.        ],\n",
       "       [0.75143257, 0.18211303, 0.91560043, 0.44799392, 0.74123455,\n",
       "        0.69080395, 0.45455177, 0.        , 0.        , 0.        ],\n",
       "       [0.0232368 , 0.50001639, 0.52186349, 0.41890703, 0.56139752,\n",
       "        0.07400649, 0.01502371, 0.        , 0.        , 0.        ],\n",
       "       [0.01889308, 0.06554541, 0.1660194 , 0.02484215, 0.03861525,\n",
       "        0.86697097, 0.00099624, 0.        , 0.        , 0.        ],\n",
       "       [0.15245346, 0.24870845, 0.65147483, 0.20211599, 0.33255907,\n",
       "        0.71314997, 0.1217749 , 0.        , 0.        , 0.        ],\n",
       "       [0.84471608, 0.13156841, 0.16156194, 0.11432364, 0.70661797,\n",
       "        0.85232268, 0.8229702 , 0.        , 0.        , 0.        ],\n",
       "       [0.        , 0.        , 0.        , 0.        , 0.        ,\n",
       "        0.        , 0.        , 0.        , 0.        , 0.        ],\n",
       "       [0.        , 0.        , 0.        , 0.        , 0.        ,\n",
       "        0.        , 0.        , 0.        , 0.        , 0.        ]])"
      ]
     },
     "execution_count": 9,
     "metadata": {},
     "output_type": "execute_result"
    }
   ],
   "source": [
    "new_mat"
   ]
  },
  {
   "cell_type": "code",
   "execution_count": 10,
   "metadata": {},
   "outputs": [],
   "source": [
    "new_mat_t = torch.tensor(new_mat, dtype=torch.float)"
   ]
  },
  {
   "cell_type": "code",
   "execution_count": 61,
   "metadata": {},
   "outputs": [],
   "source": [
    "dist_t = torch.exp(new_mat_t)"
   ]
  },
  {
   "cell_type": "code",
   "execution_count": 62,
   "metadata": {
    "scrolled": true
   },
   "outputs": [
    {
     "ename": "RuntimeError",
     "evalue": "invalid argument 2: invalid multinomial distribution (encountering probability entry = infinity or NaN) at /Users/soumith/b101_2/2019_02_08/wheel_build_dirs/wheel_3.6/pytorch/aten/src/TH/generic/THTensorRandom.cpp:302",
     "output_type": "error",
     "traceback": [
      "\u001b[0;31m---------------------------------------------------------------------------\u001b[0m",
      "\u001b[0;31mRuntimeError\u001b[0m                              Traceback (most recent call last)",
      "\u001b[0;32m<ipython-input-62-a58eaee3c1cf>\u001b[0m in \u001b[0;36m<module>\u001b[0;34m\u001b[0m\n\u001b[0;32m----> 1\u001b[0;31m \u001b[0mdist_t\u001b[0m\u001b[0;34m.\u001b[0m\u001b[0mmultinomial\u001b[0m\u001b[0;34m(\u001b[0m\u001b[0mnum_samples\u001b[0m\u001b[0;34m=\u001b[0m\u001b[0;36m1\u001b[0m\u001b[0;34m)\u001b[0m\u001b[0;34m\u001b[0m\u001b[0;34m\u001b[0m\u001b[0m\n\u001b[0m",
      "\u001b[0;31mRuntimeError\u001b[0m: invalid argument 2: invalid multinomial distribution (encountering probability entry = infinity or NaN) at /Users/soumith/b101_2/2019_02_08/wheel_build_dirs/wheel_3.6/pytorch/aten/src/TH/generic/THTensorRandom.cpp:302"
     ]
    }
   ],
   "source": [
    "dist_t.multinomial(num_samples=1)"
   ]
  },
  {
   "cell_type": "code",
   "execution_count": 1,
   "metadata": {},
   "outputs": [
    {
     "ename": "NameError",
     "evalue": "name 'new_mat' is not defined",
     "output_type": "error",
     "traceback": [
      "\u001b[0;31m---------------------------------------------------------------------------\u001b[0m",
      "\u001b[0;31mNameError\u001b[0m                                 Traceback (most recent call last)",
      "\u001b[0;32m<ipython-input-1-3bcf3d1a563e>\u001b[0m in \u001b[0;36m<module>\u001b[0;34m\u001b[0m\n\u001b[0;32m----> 1\u001b[0;31m \u001b[0mlen\u001b[0m\u001b[0;34m(\u001b[0m\u001b[0mnew_mat\u001b[0m\u001b[0;34m)\u001b[0m\u001b[0;34m\u001b[0m\u001b[0;34m\u001b[0m\u001b[0m\n\u001b[0m",
      "\u001b[0;31mNameError\u001b[0m: name 'new_mat' is not defined"
     ]
    }
   ],
   "source": [
    "len(new_mat)"
   ]
  },
  {
   "cell_type": "code",
   "execution_count": 11,
   "metadata": {},
   "outputs": [
    {
     "data": {
      "text/plain": [
       "tensor([[0.7700, 0.6006, 0.6471, 0.6132, 0.7435, 0.9877, 0.8959, 0.0000, 0.0000,\n",
       "         0.0000],\n",
       "        [0.8042, 0.5085, 0.0586, 0.6150, 0.6099, 0.1517, 0.2337, 0.0000, 0.0000,\n",
       "         0.0000],\n",
       "        [0.5066, 0.8669, 0.9563, 0.5331, 0.6630, 0.4303, 0.3421, 0.0000, 0.0000,\n",
       "         0.0000],\n",
       "        [0.7514, 0.1821, 0.9156, 0.4480, 0.7412, 0.6908, 0.4546, 0.0000, 0.0000,\n",
       "         0.0000],\n",
       "        [0.0232, 0.5000, 0.5219, 0.4189, 0.5614, 0.0740, 0.0150, 0.0000, 0.0000,\n",
       "         0.0000],\n",
       "        [0.0189, 0.0655, 0.1660, 0.0248, 0.0386, 0.8670, 0.0010, 0.0000, 0.0000,\n",
       "         0.0000],\n",
       "        [0.1525, 0.2487, 0.6515, 0.2021, 0.3326, 0.7131, 0.1218, 0.0000, 0.0000,\n",
       "         0.0000],\n",
       "        [0.8447, 0.1316, 0.1616, 0.1143, 0.7066, 0.8523, 0.8230, 0.0000, 0.0000,\n",
       "         0.0000],\n",
       "        [0.0000, 0.0000, 0.0000, 0.0000, 0.0000, 0.0000, 0.0000, 0.0000, 0.0000,\n",
       "         0.0000],\n",
       "        [0.0000, 0.0000, 0.0000, 0.0000, 0.0000, 0.0000, 0.0000, 0.0000, 0.0000,\n",
       "         0.0000]])"
      ]
     },
     "execution_count": 11,
     "metadata": {},
     "output_type": "execute_result"
    }
   ],
   "source": [
    "new_mat_t"
   ]
  },
  {
   "cell_type": "code",
   "execution_count": 12,
   "metadata": {},
   "outputs": [
    {
     "data": {
      "text/plain": [
       "torch.Size([10, 10])"
      ]
     },
     "execution_count": 12,
     "metadata": {},
     "output_type": "execute_result"
    }
   ],
   "source": [
    "new_mat_t.shape"
   ]
  },
  {
   "cell_type": "code",
   "execution_count": null,
   "metadata": {},
   "outputs": [],
   "source": []
  }
 ],
 "metadata": {
  "kernelspec": {
   "display_name": "Python 3",
   "language": "python",
   "name": "python3"
  },
  "language_info": {
   "codemirror_mode": {
    "name": "ipython",
    "version": 3
   },
   "file_extension": ".py",
   "mimetype": "text/x-python",
   "name": "python",
   "nbconvert_exporter": "python",
   "pygments_lexer": "ipython3",
   "version": "3.7.3"
  }
 },
 "nbformat": 4,
 "nbformat_minor": 2
}
