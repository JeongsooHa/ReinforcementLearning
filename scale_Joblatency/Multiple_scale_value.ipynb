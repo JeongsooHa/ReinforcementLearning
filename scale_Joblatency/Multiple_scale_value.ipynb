{
 "cells": [
  {
   "cell_type": "code",
   "execution_count": 1,
   "metadata": {},
   "outputs": [],
   "source": [
    "import pandas as pd\n",
    "import numpy as np\n",
    "import matplotlib.pyplot as plt\n",
    "import os"
   ]
  },
  {
   "cell_type": "code",
   "execution_count": 2,
   "metadata": {},
   "outputs": [],
   "source": [
    "path_dir = os.getcwd()\n",
    "file_list = os.listdir(path_dir)\n",
    "file_list.sort()"
   ]
  },
  {
   "cell_type": "code",
   "execution_count": 3,
   "metadata": {},
   "outputs": [
    {
     "name": "stdout",
     "output_type": "stream",
     "text": [
      "1_1000_AJL.csv\n",
      "2_500_AJL.csv\n",
      "3_100_AJL.csv\n",
      "4_50_AJL.csv\n",
      "[44.36363596033058, 45.047618833106576, 50.68421025955679, 55.99999998852458]\n",
      "[39.9999960000004, 39.9999960000004, 39.9999960000004, 39.9999960000004]\n"
     ]
    }
   ],
   "source": [
    "# AJL_files = []\n",
    "AJL_max_list = []\n",
    "AJL_min_list = []\n",
    "AJL_mean_list = []\n",
    "columns = [\"1000\",\"500\",\"100\",\"50\"]\n",
    "for filename in file_list:\n",
    "    if 'AJL' in filename:\n",
    "#         AJL_files.append(pd.read_csv(path_dir+'/'+filename, names=['iter','AJL']).drop('iter',axis=1))\n",
    "        df = pd.read_csv(path_dir+'/'+filename, names=['iter','AJL']).drop('iter',axis=1)\n",
    "        df.loc[df['AJL'] == 0.0] = max(df['AJL'])-0.1\n",
    "        AJL_max_list.append(max(df['AJL']))\n",
    "        AJL_min_list.append(min(df['AJL']))\n",
    "        AJL_mean_list.append((max(df['AJL'])+min(df['AJL']))/2)\n",
    "        print(filename)\n",
    "        \n",
    "print(AJL_max_list)\n",
    "print(AJL_min_list)"
   ]
  },
  {
   "cell_type": "code",
   "execution_count": 7,
   "metadata": {},
   "outputs": [
    {
     "name": "stdout",
     "output_type": "stream",
     "text": [
      "SAVED!\n"
     ]
    },
    {
     "data": {
      "text/plain": [
       "<module 'matplotlib.pyplot' from '/Users/jeongsooha/.virtualenvs/reinforce/lib/python3.7/site-packages/matplotlib/pyplot.py'>"
      ]
     },
     "execution_count": 7,
     "metadata": {},
     "output_type": "execute_result"
    },
    {
     "data": {
      "image/png": "[encoded data removed]",
      "text/plain": [
       "<Figure size 504x360 with 1 Axes>"
      ]
     },
     "metadata": {
      "needs_background": "light"
     },
     "output_type": "display_data"
    }
   ],
   "source": [
    "dg = pd.DataFrame([AJL_min_list, AJL_max_list],\n",
    "                  columns = columns)\n",
    "\n",
    "fig = plt.figure(figsize=(7,5))\n",
    "ax = fig.add_subplot(1,1,1)\n",
    "boxplot = dg.boxplot(column = columns)\n",
    "fig.suptitle(\"Average Job Latency by Scale\", fontsize = 20)\n",
    "plt.xlabel('Scale', fontsize=15)\n",
    "plt.ylabel('Average Job Latency', fontsize=15)\n",
    "fig.savefig(os.getcwd()+'/avg_job_latency.png')\n",
    "print(\"SAVED!\")\n",
    "plt"
   ]
  },
  {
   "cell_type": "code",
   "execution_count": null,
   "metadata": {},
   "outputs": [],
   "source": []
  }
 ],
 "metadata": {
  "kernelspec": {
   "display_name": "reinforce",
   "language": "python",
   "name": "reinforce"
  },
  "language_info": {
   "codemirror_mode": {
    "name": "ipython",
    "version": 3
   },
   "file_extension": ".py",
   "mimetype": "text/x-python",
   "name": "python",
   "nbconvert_exporter": "python",
   "pygments_lexer": "ipython3",
   "version": "3.7.3"
  }
 },
 "nbformat": 4,
 "nbformat_minor": 2
}
