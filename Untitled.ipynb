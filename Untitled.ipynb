{
 "cells": [
  {
   "cell_type": "code",
   "execution_count": 1,
   "metadata": {},
   "outputs": [],
   "source": [
    "import simpy"
   ]
  },
  {
   "cell_type": "code",
   "execution_count": 99,
   "metadata": {},
   "outputs": [],
   "source": [
    "def subfunc(env):\n",
    "    print(env.active_process)\n",
    "\n",
    "def my_proc(env):\n",
    "    i=0\n",
    "    while True:\n",
    "        print(env.active_process)\n",
    "        subfunc(env)\n",
    "        print(i)\n",
    "        i += 1\n",
    "        yield env.timeout(1)"
   ]
  },
  {
   "cell_type": "code",
   "execution_count": 100,
   "metadata": {},
   "outputs": [],
   "source": [
    "env = simpy.Environment()\n",
    "env2 = simpy.Environment()"
   ]
  },
  {
   "cell_type": "code",
   "execution_count": 101,
   "metadata": {
    "scrolled": true
   },
   "outputs": [],
   "source": [
    "p1 = env.process(my_proc(env))\n",
    "# p2 = env.process(my_proc(env2))\n",
    "\n",
    "p2 = env2.process(my_proc(env2))\n"
   ]
  },
  {
   "cell_type": "code",
   "execution_count": 102,
   "metadata": {},
   "outputs": [
    {
     "name": "stdout",
     "output_type": "stream",
     "text": [
      "<Process(my_proc) object at 0x1046874d0>\n",
      "<Process(my_proc) object at 0x1046874d0>\n",
      "0\n",
      "<Process(my_proc) object at 0x104687bd0>\n",
      "<Process(my_proc) object at 0x104687bd0>\n",
      "0\n",
      "TEST  None None\n",
      "<Process(my_proc) object at 0x1046874d0>\n",
      "<Process(my_proc) object at 0x1046874d0>\n",
      "1\n",
      "<Process(my_proc) object at 0x104687bd0>\n",
      "<Process(my_proc) object at 0x104687bd0>\n",
      "1\n",
      "TEST  None None\n",
      "<Process(my_proc) object at 0x1046874d0>\n",
      "<Process(my_proc) object at 0x1046874d0>\n",
      "2\n",
      "<Process(my_proc) object at 0x104687bd0>\n",
      "<Process(my_proc) object at 0x104687bd0>\n",
      "2\n",
      "TEST  None None\n",
      "<Process(my_proc) object at 0x1046874d0>\n",
      "<Process(my_proc) object at 0x1046874d0>\n",
      "3\n",
      "<Process(my_proc) object at 0x104687bd0>\n",
      "<Process(my_proc) object at 0x104687bd0>\n",
      "3\n",
      "TEST  None None\n"
     ]
    },
    {
     "ename": "KeyboardInterrupt",
     "evalue": "",
     "output_type": "error",
     "traceback": [
      "\u001b[0;31m---------------------------------------------------------------------------\u001b[0m",
      "\u001b[0;31mKeyboardInterrupt\u001b[0m                         Traceback (most recent call last)",
      "\u001b[0;32m<ipython-input-102-87dfd852bded>\u001b[0m in \u001b[0;36m<module>\u001b[0;34m\u001b[0m\n\u001b[1;32m      2\u001b[0m \u001b[0;32mwhile\u001b[0m \u001b[0;32mTrue\u001b[0m\u001b[0;34m:\u001b[0m\u001b[0;34m\u001b[0m\u001b[0;34m\u001b[0m\u001b[0m\n\u001b[1;32m      3\u001b[0m     \u001b[0mprint\u001b[0m\u001b[0;34m(\u001b[0m\u001b[0;34m\"TEST \"\u001b[0m\u001b[0;34m,\u001b[0m\u001b[0menv\u001b[0m\u001b[0;34m.\u001b[0m\u001b[0mstep\u001b[0m\u001b[0;34m(\u001b[0m\u001b[0;34m)\u001b[0m\u001b[0;34m,\u001b[0m \u001b[0menv2\u001b[0m\u001b[0;34m.\u001b[0m\u001b[0mstep\u001b[0m\u001b[0;34m(\u001b[0m\u001b[0;34m)\u001b[0m\u001b[0;34m)\u001b[0m\u001b[0;34m\u001b[0m\u001b[0;34m\u001b[0m\u001b[0m\n\u001b[0;32m----> 4\u001b[0;31m     \u001b[0mtime\u001b[0m\u001b[0;34m.\u001b[0m\u001b[0msleep\u001b[0m\u001b[0;34m(\u001b[0m\u001b[0;36m1\u001b[0m\u001b[0;34m)\u001b[0m\u001b[0;34m\u001b[0m\u001b[0;34m\u001b[0m\u001b[0m\n\u001b[0m",
      "\u001b[0;31mKeyboardInterrupt\u001b[0m: "
     ]
    }
   ],
   "source": [
    "import time\n",
    "while True:\n",
    "    print(\"TEST \",env.step(), env2.step())\n",
    "    time.sleep(1)"
   ]
  },
  {
   "cell_type": "code",
   "execution_count": null,
   "metadata": {},
   "outputs": [],
   "source": []
  }
 ],
 "metadata": {
  "kernelspec": {
   "display_name": "torch12",
   "language": "python",
   "name": "torch12"
  },
  "language_info": {
   "codemirror_mode": {
    "name": "ipython",
    "version": 3
   },
   "file_extension": ".py",
   "mimetype": "text/x-python",
   "name": "python",
   "nbconvert_exporter": "python",
   "pygments_lexer": "ipython3",
   "version": "3.7.4"
  }
 },
 "nbformat": 4,
 "nbformat_minor": 2
}
