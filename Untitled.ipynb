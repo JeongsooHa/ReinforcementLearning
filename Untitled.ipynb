{
 "cells": [
  {
   "cell_type": "code",
   "execution_count": 1,
   "metadata": {},
   "outputs": [],
   "source": [
    "import numpy as np\n",
    "import torch\n",
    "\n",
    "import sys\n",
    "np.set_printoptions(precision=3)"
   ]
  },
  {
   "cell_type": "code",
   "execution_count": 2,
   "metadata": {},
   "outputs": [],
   "source": [
    "mat = np.random.random((10,10))"
   ]
  },
  {
   "cell_type": "code",
   "execution_count": 3,
   "metadata": {},
   "outputs": [],
   "source": [
    "mask = np.zeros((10,10))\n",
    "for i in range(8): \n",
    "    for ii in range(7):\n",
    "        mask[i][ii] = 1\n",
    "mask[2][2] = 0"
   ]
  },
  {
   "cell_type": "code",
   "execution_count": 4,
   "metadata": {},
   "outputs": [],
   "source": [
    "#mat, mask"
   ]
  },
  {
   "cell_type": "code",
   "execution_count": 5,
   "metadata": {},
   "outputs": [],
   "source": [
    "new_mat = np.multiply(mat, mask)\n",
    "#new_mat"
   ]
  },
  {
   "cell_type": "code",
   "execution_count": 7,
   "metadata": {},
   "outputs": [],
   "source": [
    "new_mat_t = torch.tensor(new_mat, dtype=torch.float)\n",
    "new_dist_t = torch.exp(new_mat_t)\n",
    "\n"
   ]
  },
  {
   "cell_type": "code",
   "execution_count": 9,
   "metadata": {},
   "outputs": [
    {
     "name": "stdout",
     "output_type": "stream",
     "text": [
      "tensor([[1.3022, 1.2548, 1.9072, 1.0926, 1.0955, 2.4339, 1.5346, 1.0000, 1.0000,\n",
      "         1.0000],\n",
      "        [1.8576, 1.0830, 1.5728, 1.4097, 2.5370, 1.3876, 1.4949, 1.0000, 1.0000,\n",
      "         1.0000],\n",
      "        [1.0960, 2.3222, 1.0000, 1.0624, 1.1208, 1.3052, 1.0239, 1.0000, 1.0000,\n",
      "         1.0000],\n",
      "        [1.2802, 1.0459, 2.1951, 1.1832, 1.4332, 2.6784, 1.2516, 1.0000, 1.0000,\n",
      "         1.0000],\n",
      "        [2.3472, 1.4151, 1.1277, 1.9873, 1.2392, 2.3563, 1.3085, 1.0000, 1.0000,\n",
      "         1.0000],\n",
      "        [2.4486, 2.2283, 2.5275, 2.2604, 2.3849, 1.6481, 1.2218, 1.0000, 1.0000,\n",
      "         1.0000],\n",
      "        [2.1961, 2.6057, 2.5240, 1.7308, 1.6749, 1.6241, 1.9710, 1.0000, 1.0000,\n",
      "         1.0000],\n",
      "        [1.4466, 2.0334, 2.6289, 1.4413, 1.2142, 1.8730, 2.5268, 1.0000, 1.0000,\n",
      "         1.0000],\n",
      "        [1.0000, 1.0000, 1.0000, 1.0000, 1.0000, 1.0000, 1.0000, 1.0000, 1.0000,\n",
      "         1.0000],\n",
      "        [1.0000, 1.0000, 1.0000, 1.0000, 1.0000, 1.0000, 1.0000, 1.0000, 1.0000,\n",
      "         1.0000]])\n"
     ]
    },
    {
     "data": {
      "text/plain": [
       "tensor([[2],\n",
       "        [0],\n",
       "        [4],\n",
       "        [5],\n",
       "        [8],\n",
       "        [5],\n",
       "        [2],\n",
       "        [0],\n",
       "        [5],\n",
       "        [1]])"
      ]
     },
     "execution_count": 9,
     "metadata": {},
     "output_type": "execute_result"
    }
   ],
   "source": [
    "print(new_dist_t)\n",
    "new_dist_t.multinomial(num_samples=1)"
   ]
  },
  {
   "cell_type": "code",
   "execution_count": 19,
   "metadata": {},
   "outputs": [
    {
     "data": {
      "text/plain": [
       "tensor([[1.3022, 1.2548, 1.9072, 1.0926, 1.0955, 2.4339, 1.5346, 0.0000, 0.0000,\n",
       "         0.0000],\n",
       "        [1.8576, 1.0830, 1.5728, 1.4097, 2.5370, 1.3876, 1.4949, 0.0000, 0.0000,\n",
       "         0.0000],\n",
       "        [1.0960, 2.3222, 0.0000, 1.0624, 1.1208, 1.3052, 1.0239, 0.0000, 0.0000,\n",
       "         0.0000],\n",
       "        [1.2802, 1.0459, 2.1951, 1.1832, 1.4332, 2.6784, 1.2516, 0.0000, 0.0000,\n",
       "         0.0000],\n",
       "        [2.3472, 1.4151, 1.1277, 1.9873, 1.2392, 2.3563, 1.3085, 0.0000, 0.0000,\n",
       "         0.0000],\n",
       "        [2.4486, 2.2283, 2.5275, 2.2604, 2.3849, 1.6481, 1.2218, 0.0000, 0.0000,\n",
       "         0.0000],\n",
       "        [2.1961, 2.6057, 2.5240, 1.7308, 1.6749, 1.6241, 1.9710, 0.0000, 0.0000,\n",
       "         0.0000],\n",
       "        [1.4466, 2.0334, 2.6289, 1.4413, 1.2142, 1.8730, 2.5268, 0.0000, 0.0000,\n",
       "         0.0000],\n",
       "        [0.0000, 0.0000, 0.0000, 0.0000, 0.0000, 0.0000, 0.0000, 0.0000, 0.0000,\n",
       "         0.0000],\n",
       "        [0.0000, 0.0000, 0.0000, 0.0000, 0.0000, 0.0000, 0.0000, 0.0000, 0.0000,\n",
       "         0.0000]])"
      ]
     },
     "execution_count": 19,
     "metadata": {},
     "output_type": "execute_result"
    }
   ],
   "source": [
    "new_dist_t[new_dist_t==1]=0\n",
    "new_dist_t"
   ]
  },
  {
   "cell_type": "code",
   "execution_count": 30,
   "metadata": {},
   "outputs": [
    {
     "name": "stdout",
     "output_type": "stream",
     "text": [
      "tensor([0.2641, 0.2270, 0.6456, 0.0886, 0.0912, 0.8895, 0.4283])\n",
      "tensor([2])\n",
      "tensor([0.6193, 0.0797, 0.4529, 0.3434, 0.9310, 0.3275, 0.4021])\n",
      "tensor([0])\n",
      "tensor([0.0917, 0.8425, 0.0606, 0.1140, 0.2663, 0.0236])\n",
      "tensor([1])\n",
      "tensor([0.2470, 0.0448, 0.7862, 0.1682, 0.3599, 0.9852, 0.2244])\n",
      "tensor([0])\n",
      "tensor([0.8532, 0.3472, 0.1202, 0.6868, 0.2145, 0.8571, 0.2689])\n",
      "tensor([3])\n",
      "tensor([0.8955, 0.8013, 0.9273, 0.8155, 0.8692, 0.4996, 0.2003])\n",
      "tensor([5])\n",
      "tensor([0.7867, 0.9577, 0.9259, 0.5486, 0.5158, 0.4849, 0.6786])\n",
      "tensor([0])\n",
      "tensor([0.3692, 0.7097, 0.9666, 0.3656, 0.1941, 0.6275, 0.9270])\n",
      "tensor([6])\n"
     ]
    }
   ],
   "source": [
    "for i in range(len(new_mat)):\n",
    "    temp = new_mat[i][new_mat[i] > 0]\n",
    "    temp_t = torch.tensor(temp, dtype=torch.float)\n",
    "    if len(temp)>0:\n",
    "        print(temp_t)\n",
    "        sam = temp_t.multinomial(num_samples=1)\n",
    "        print(sam)"
   ]
  },
  {
   "cell_type": "code",
   "execution_count": 12,
   "metadata": {},
   "outputs": [
    {
     "name": "stdout",
     "output_type": "stream",
     "text": [
      "[ True  True  True  True  True  True  True False False False]\n"
     ]
    },
    {
     "ename": "TypeError",
     "evalue": "argument of type 'bool' is not iterable",
     "output_type": "error",
     "traceback": [
      "\u001b[0;31m---------------------------------------------------------------------------\u001b[0m",
      "\u001b[0;31mTypeError\u001b[0m                                 Traceback (most recent call last)",
      "\u001b[0;32m<ipython-input-12-3f55e349ab08>\u001b[0m in \u001b[0;36m<module>\u001b[0;34m\u001b[0m\n\u001b[1;32m      2\u001b[0m \u001b[0mprint\u001b[0m\u001b[0;34m(\u001b[0m\u001b[0mnew_mat\u001b[0m\u001b[0;34m[\u001b[0m\u001b[0;36m0\u001b[0m\u001b[0;34m]\u001b[0m\u001b[0;34m>\u001b[0m\u001b[0;36m0\u001b[0m\u001b[0;34m)\u001b[0m\u001b[0;34m\u001b[0m\u001b[0;34m\u001b[0m\u001b[0m\n\u001b[1;32m      3\u001b[0m \u001b[0;32mfor\u001b[0m \u001b[0mi\u001b[0m \u001b[0;32min\u001b[0m \u001b[0mrange\u001b[0m\u001b[0;34m(\u001b[0m\u001b[0mlen\u001b[0m\u001b[0;34m(\u001b[0m\u001b[0mnew_mat\u001b[0m\u001b[0;34m)\u001b[0m\u001b[0;34m)\u001b[0m\u001b[0;34m:\u001b[0m\u001b[0;34m\u001b[0m\u001b[0;34m\u001b[0m\u001b[0m\n\u001b[0;32m----> 4\u001b[0;31m     \u001b[0;32mif\u001b[0m \u001b[0;32mnot\u001b[0m \u001b[0;34m(\u001b[0m\u001b[0mnew_mat\u001b[0m\u001b[0;34m[\u001b[0m\u001b[0mi\u001b[0m\u001b[0;34m]\u001b[0m \u001b[0;34m>\u001b[0m \u001b[0;36m0\u001b[0m\u001b[0;34m)\u001b[0m \u001b[0;32min\u001b[0m \u001b[0;32mFalse\u001b[0m\u001b[0;34m:\u001b[0m\u001b[0;34m\u001b[0m\u001b[0;34m\u001b[0m\u001b[0m\n\u001b[0m\u001b[1;32m      5\u001b[0m         \u001b[0mtemp\u001b[0m\u001b[0;34m.\u001b[0m\u001b[0mappend\u001b[0m\u001b[0;34m(\u001b[0m\u001b[0mnew_mat\u001b[0m\u001b[0;34m[\u001b[0m\u001b[0mi\u001b[0m\u001b[0;34m]\u001b[0m\u001b[0;34m[\u001b[0m\u001b[0mnew_mat\u001b[0m\u001b[0;34m[\u001b[0m\u001b[0mi\u001b[0m\u001b[0;34m]\u001b[0m \u001b[0;34m>\u001b[0m \u001b[0;36m0\u001b[0m\u001b[0;34m]\u001b[0m\u001b[0;34m)\u001b[0m\u001b[0;34m\u001b[0m\u001b[0;34m\u001b[0m\u001b[0m\n\u001b[1;32m      6\u001b[0m \u001b[0mprint\u001b[0m\u001b[0;34m(\u001b[0m\u001b[0mtemp\u001b[0m\u001b[0;34m)\u001b[0m\u001b[0;34m\u001b[0m\u001b[0;34m\u001b[0m\u001b[0m\n",
      "\u001b[0;31mTypeError\u001b[0m: argument of type 'bool' is not iterable"
     ]
    }
   ],
   "source": [
    "temp = []\n",
    "print(new_mat[0]>0)\n",
    "for i in range(len(new_mat)):\n",
    "    if not (new_mat[i] > 0) in False:\n",
    "        temp.append(new_mat[i][new_mat[i] > 0])\n",
    "print(temp)\n",
    "\n",
    "for i in range(len(temp)):\n",
    "    #temp = new_mat[i][new_mat[i] > 0]\n",
    "    temp_t = torch.tensor(temp[i], dtype=torch.float)\n",
    "    if len(temp)>0:\n",
    "        sam = temp_t.multinomial(num_samples=1)\n",
    "        print(sam)"
   ]
  },
  {
   "cell_type": "code",
   "execution_count": 108,
   "metadata": {},
   "outputs": [],
   "source": [
    "aa = [True,True,True,False]"
   ]
  },
  {
   "cell_type": "code",
   "execution_count": 111,
   "metadata": {},
   "outputs": [],
   "source": [
    "aa =np.array(aa)"
   ]
  },
  {
   "cell_type": "code",
   "execution_count": 112,
   "metadata": {},
   "outputs": [
    {
     "ename": "TypeError",
     "evalue": "argument of type 'bool' is not iterable",
     "output_type": "error",
     "traceback": [
      "\u001b[0;31m---------------------------------------------------------------------------\u001b[0m",
      "\u001b[0;31mTypeError\u001b[0m                                 Traceback (most recent call last)",
      "\u001b[0;32m<ipython-input-112-f03e74c5cd20>\u001b[0m in \u001b[0;36m<module>\u001b[0;34m\u001b[0m\n\u001b[0;32m----> 1\u001b[0;31m \u001b[0;32mif\u001b[0m \u001b[0maa\u001b[0m \u001b[0;32min\u001b[0m \u001b[0;32mFalse\u001b[0m\u001b[0;34m:\u001b[0m\u001b[0;34m\u001b[0m\u001b[0;34m\u001b[0m\u001b[0m\n\u001b[0m\u001b[1;32m      2\u001b[0m     \u001b[0mprint\u001b[0m\u001b[0;34m(\u001b[0m\u001b[0;34m\"TEST\"\u001b[0m\u001b[0;34m)\u001b[0m\u001b[0;34m\u001b[0m\u001b[0;34m\u001b[0m\u001b[0m\n",
      "\u001b[0;31mTypeError\u001b[0m: argument of type 'bool' is not iterable"
     ]
    }
   ],
   "source": [
    "if aa in False:\n",
    "    print(\"TEST\")"
   ]
  },
  {
   "cell_type": "code",
   "execution_count": 113,
   "metadata": {},
   "outputs": [
    {
     "data": {
      "text/plain": [
       "array([[0.428, 0.655, 0.675, 0.448, 0.141, 0.889, 0.737, 0.   , 0.   ,\n",
       "        0.   ],\n",
       "       [0.927, 0.695, 0.926, 0.017, 0.204, 0.079, 0.26 , 0.   , 0.   ,\n",
       "        0.   ],\n",
       "       [0.085, 0.279, 0.   , 0.696, 0.548, 0.743, 0.363, 0.   , 0.   ,\n",
       "        0.   ],\n",
       "       [0.407, 0.586, 0.26 , 0.041, 0.197, 0.467, 0.88 , 0.   , 0.   ,\n",
       "        0.   ],\n",
       "       [0.347, 0.259, 0.54 , 0.046, 0.01 , 0.008, 0.275, 0.   , 0.   ,\n",
       "        0.   ],\n",
       "       [0.79 , 0.554, 0.814, 0.779, 0.636, 0.04 , 0.708, 0.   , 0.   ,\n",
       "        0.   ],\n",
       "       [0.1  , 0.013, 0.155, 0.746, 0.842, 0.853, 0.564, 0.   , 0.   ,\n",
       "        0.   ],\n",
       "       [0.894, 0.75 , 0.337, 0.706, 0.125, 0.713, 0.94 , 0.   , 0.   ,\n",
       "        0.   ],\n",
       "       [0.   , 0.   , 0.   , 0.   , 0.   , 0.   , 0.   , 0.   , 0.   ,\n",
       "        0.   ],\n",
       "       [0.   , 0.   , 0.   , 0.   , 0.   , 0.   , 0.   , 0.   , 0.   ,\n",
       "        0.   ]])"
      ]
     },
     "execution_count": 113,
     "metadata": {},
     "output_type": "execute_result"
    }
   ],
   "source": [
    "new_mat"
   ]
  },
  {
   "cell_type": "code",
   "execution_count": 4,
   "metadata": {},
   "outputs": [
    {
     "name": "stdout",
     "output_type": "stream",
     "text": [
      "[0.846 0.549 0.168 0.191 0.835 0.151 0.934 0.392 0.588 0.032 0.854 0.678\n",
      " 0.57  0.79  0.271 0.048 0.819 0.793 0.793 0.56  0.62  0.333 0.323 0.174\n",
      " 0.476 0.571 0.634 0.735 0.877 0.092 0.003 0.863 0.999 0.229 0.763 0.687\n",
      " 0.509 0.913 0.013 0.267 0.946 0.78  0.063 0.92  0.093 0.162 0.843 0.246\n",
      " 0.121 0.146 0.704 0.074 0.324 0.549 0.799]\n"
     ]
    }
   ],
   "source": [
    "masked_net = mat[mask == True]\n",
    "print(masked_net)\n"
   ]
  },
  {
   "cell_type": "code",
   "execution_count": 11,
   "metadata": {},
   "outputs": [
    {
     "name": "stdout",
     "output_type": "stream",
     "text": [
      "[]\n"
     ]
    },
    {
     "ename": "AttributeError",
     "evalue": "'numpy.ndarray' object has no attribute 'append'",
     "output_type": "error",
     "traceback": [
      "\u001b[0;31m---------------------------------------------------------------------------\u001b[0m",
      "\u001b[0;31mAttributeError\u001b[0m                            Traceback (most recent call last)",
      "\u001b[0;32m<ipython-input-11-83afca481a9a>\u001b[0m in \u001b[0;36m<module>\u001b[0;34m\u001b[0m\n\u001b[1;32m      2\u001b[0m \u001b[0mprint\u001b[0m\u001b[0;34m(\u001b[0m\u001b[0mmasked_net\u001b[0m\u001b[0;34m)\u001b[0m\u001b[0;34m\u001b[0m\u001b[0;34m\u001b[0m\u001b[0m\n\u001b[1;32m      3\u001b[0m \u001b[0;32mfor\u001b[0m \u001b[0mi\u001b[0m \u001b[0;32min\u001b[0m \u001b[0mrange\u001b[0m\u001b[0;34m(\u001b[0m\u001b[0mlen\u001b[0m\u001b[0;34m(\u001b[0m\u001b[0mmat\u001b[0m\u001b[0;34m)\u001b[0m\u001b[0;34m)\u001b[0m\u001b[0;34m:\u001b[0m\u001b[0;34m\u001b[0m\u001b[0;34m\u001b[0m\u001b[0m\n\u001b[0;32m----> 4\u001b[0;31m     \u001b[0mmasked_net\u001b[0m\u001b[0;34m.\u001b[0m\u001b[0mappend\u001b[0m\u001b[0;34m(\u001b[0m\u001b[0mmat\u001b[0m\u001b[0;34m[\u001b[0m\u001b[0mi\u001b[0m\u001b[0;34m]\u001b[0m\u001b[0;34m[\u001b[0m\u001b[0mmask\u001b[0m\u001b[0;34m[\u001b[0m\u001b[0mi\u001b[0m\u001b[0;34m]\u001b[0m \u001b[0;34m==\u001b[0m \u001b[0;32mTrue\u001b[0m\u001b[0;34m]\u001b[0m\u001b[0;34m)\u001b[0m\u001b[0;34m\u001b[0m\u001b[0;34m\u001b[0m\u001b[0m\n\u001b[0m",
      "\u001b[0;31mAttributeError\u001b[0m: 'numpy.ndarray' object has no attribute 'append'"
     ]
    }
   ],
   "source": [
    "masked_net = np.array([], dtype = np.float32)\n",
    "print(masked_net)\n",
    "for i in range(len(mat)):\n",
    "    masked_net.append(mat[i][mask[i] == True])"
   ]
  },
  {
   "cell_type": "code",
   "execution_count": null,
   "metadata": {},
   "outputs": [],
   "source": []
  }
 ],
 "metadata": {
  "kernelspec": {
   "display_name": "reinforce",
   "language": "python",
   "name": "reinforce"
  },
  "language_info": {
   "codemirror_mode": {
    "name": "ipython",
    "version": 3
   },
   "file_extension": ".py",
   "mimetype": "text/x-python",
   "name": "python",
   "nbconvert_exporter": "python",
   "pygments_lexer": "ipython3",
   "version": "3.7.3"
  }
 },
 "nbformat": 4,
 "nbformat_minor": 2
}
