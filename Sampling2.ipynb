{
 "cells": [
  {
   "cell_type": "code",
   "execution_count": 1,
   "metadata": {},
   "outputs": [],
   "source": [
    "import numpy as np\n",
    "import torch\n",
    "from random import *\n",
    "from sklearn import preprocessing\n",
    "import pandas as pd\n",
    "from sklearn.preprocessing import Normalizer\n",
    "\n",
    "# np.set_printoptions(precision=6)"
   ]
  },
  {
   "cell_type": "code",
   "execution_count": 2,
   "metadata": {},
   "outputs": [
    {
     "data": {
      "text/plain": [
       "(array([-2.7531, -2.7391, -2.7252, -2.7484, -2.7834, -2.7706, -2.8017,\n",
       "        -2.7864, -2.7768, -2.783 , -2.8187, -2.7667, -2.7849, -2.7957,\n",
       "        -2.8021, -2.7312]),\n",
       " array([1., 0., 0., 1., 1., 0., 1., 0., 1., 1., 1., 1., 1., 1., 1., 1.]))"
      ]
     },
     "execution_count": 2,
     "metadata": {},
     "output_type": "execute_result"
    }
   ],
   "source": [
    "# mat = np.random.random((16))\n",
    "mat = np.array([-2.7531, -2.7391, -2.7252, -2.7484, -2.7834, -2.7706, -2.8017, -2.7864, -2.7768, -2.7830, -2.8187, -2.7667, -2.7849, -2.7957, -2.8021, -2.7312])\n",
    "\n",
    "# Make a mask\n",
    "mask = np.ones((16))\n",
    "\n",
    "mask[1] = 0\n",
    "mask[2] = 0\n",
    "mask[5] = 0\n",
    "mask[7] = 0\n",
    "\n",
    "mat, mask"
   ]
  },
  {
   "cell_type": "code",
   "execution_count": 3,
   "metadata": {},
   "outputs": [
    {
     "name": "stdout",
     "output_type": "stream",
     "text": [
      "tensor(-2.8187)\n",
      "tensor([0.0756, 0.0896, 0.1035, 0.0803, 0.0453, 0.0581, 0.0270, 0.0423, 0.0519,\n",
      "        0.0457, 0.0100, 0.0620, 0.0438, 0.0330, 0.0266, 0.0975])\n"
     ]
    }
   ],
   "source": [
    "# Add min value for making positive values\n",
    "mat = torch.tensor(mat, dtype=torch.float)\n",
    "min_v = min(mat)\n",
    "print(min_v)\n",
    "m_mat = mat-min_v+0.01\n",
    "print(m_mat)"
   ]
  },
  {
   "cell_type": "code",
   "execution_count": 4,
   "metadata": {},
   "outputs": [
    {
     "name": "stdout",
     "output_type": "stream",
     "text": [
      "[[0.77538546]\n",
      " [0.        ]\n",
      " [0.        ]\n",
      " [0.82358998]\n",
      " [0.46461509]\n",
      " [0.        ]\n",
      " [0.2769224 ]\n",
      " [0.        ]\n",
      " [0.53230878]\n",
      " [0.46871833]\n",
      " [0.102564  ]\n",
      " [0.63589728]\n",
      " [0.4492316 ]\n",
      " [0.33846121]\n",
      " [0.2728216 ]\n",
      " [1.        ]]\n"
     ]
    }
   ],
   "source": [
    "# masking out\n",
    "masked_mat = np.multiply(m_mat, mask)\n",
    "\n",
    "# normalization\n",
    "min_max_scaler = preprocessing.MinMaxScaler()\n",
    "masked_mat_re = np.reshape(masked_mat,(-1,1))\n",
    "masked_mat_scaled = min_max_scaler.fit_transform(masked_mat_re)\n",
    "print(masked_mat_scaled)"
   ]
  },
  {
   "cell_type": "code",
   "execution_count": 5,
   "metadata": {},
   "outputs": [
    {
     "name": "stdout",
     "output_type": "stream",
     "text": [
      "[[0.12627367]\n",
      " [0.        ]\n",
      " [0.        ]\n",
      " [0.13412391]\n",
      " [0.07566385]\n",
      " [0.        ]\n",
      " [0.04509758]\n",
      " [0.        ]\n",
      " [0.08668796]\n",
      " [0.07633208]\n",
      " [0.01670283]\n",
      " [0.10355763]\n",
      " [0.07315861]\n",
      " [0.05511935]\n",
      " [0.04442975]\n",
      " [0.16285277]]\n",
      "1.0\n"
     ]
    }
   ],
   "source": [
    "_masked_mat_scaled = np.ones((len(masked_mat_scaled),1))\n",
    "\n",
    "t = np.sum(masked_mat_scaled[:])\n",
    "_masked_mat_scaled[:] = masked_mat_scaled[:]/t\n",
    "print(_masked_mat_scaled)\n",
    "print(np.sum(_masked_mat_scaled[:]))"
   ]
  },
  {
   "cell_type": "code",
   "execution_count": 6,
   "metadata": {},
   "outputs": [
    {
     "name": "stdout",
     "output_type": "stream",
     "text": [
      "tensor([0.1263, 0.0000, 0.0000, 0.1341, 0.0757, 0.0000, 0.0451, 0.0000, 0.0867,\n",
      "        0.0763, 0.0167, 0.1036, 0.0732, 0.0551, 0.0444, 0.1629])\n"
     ]
    }
   ],
   "source": [
    "_masked_mat_scaled_re = np.reshape(_masked_mat_scaled,len(_masked_mat_scaled))\n",
    "_masked_mat_scaled_tre = torch.tensor(_masked_mat_scaled_re, dtype=torch.float)\n",
    "print(_masked_mat_scaled_tre)"
   ]
  },
  {
   "cell_type": "code",
   "execution_count": 7,
   "metadata": {},
   "outputs": [
    {
     "name": "stdout",
     "output_type": "stream",
     "text": [
      "tensor([8])\n",
      "8\n"
     ]
    }
   ],
   "source": [
    "t = _masked_mat_scaled_tre.multinomial(num_samples=1)\n",
    "print(t)\n",
    "print(t[0].item())"
   ]
  },
  {
   "cell_type": "code",
   "execution_count": 8,
   "metadata": {},
   "outputs": [],
   "source": [
    "for i in range(1000):\n",
    "    t = _masked_mat_scaled_tre.multinomial(num_samples=1)\n",
    "    if _masked_mat_scaled_tre[t[0].item()] == 0:\n",
    "        print(\"!!!!!!!!!!!!!!!!!\")"
   ]
  },
  {
   "cell_type": "code",
   "execution_count": 11,
   "metadata": {},
   "outputs": [],
   "source": [
    "# Node 클래스 정의\n",
    "class Node:\n",
    "    def __init__(self, data):\n",
    "        self.data = data\n",
    "        self.next = None\n",
    "\n",
    "\n",
    "# LinkedList 클래스 (자료구조) 정의\n",
    "class LinkedList:\n",
    "\n",
    "    # 초기화 메소드\n",
    "    def __init__(self):\n",
    "        dummy = Node(\"dummy\")\n",
    "        self.head = dummy\n",
    "        self.tail = dummy\n",
    "\n",
    "        self.current = None\n",
    "        self.before = None\n",
    "\n",
    "        self.num_of_data = 0\n",
    "\n",
    "    # append 메소드 (insert - 맨 뒤에 노드 추가, tail과 node의 next, 데이터 개수 변경)\n",
    "    def append(self, data):\n",
    "        new_node = Node(data)\n",
    "        self.tail.next = new_node\n",
    "        self.tail = new_node\n",
    "\n",
    "        self.num_of_data += 1\n",
    "\n",
    "    # delete 메소드 (delete - current 노드 삭제, 인접 노드의 current, next 변경, 데이터 개수 변경)\n",
    "    def delete(self):\n",
    "        pop_data = self.current.data\n",
    "\n",
    "        if self.current is self.tail:\n",
    "            self.tail = self.before\n",
    "\n",
    "        self.before.next = self.current.next\n",
    "        self.current = self.before # 중요 : current가 next가 아닌 before로 변경된다.\n",
    "        #\n",
    "\n",
    "        self.num_of_data -= 1\n",
    "\n",
    "        return pop_data\n",
    "\n",
    "    # first 메소드 (search1 - 맨 앞의 노드 검색, before, current 변경)\n",
    "    def first(self):\n",
    "        if self.num_of_data == 0: # 데이터가 없는 경우 첫번째 노드도 없기 때문에 None 리턴\n",
    "            return None\n",
    "\n",
    "        self.before = self.head\n",
    "        self.current = self.head.next\n",
    "\n",
    "        return self.current.data\n",
    "\n",
    "    # next 메소드 (search2 - current 노드의 다음 노드 검색, 이전에 first 메소드가 한번은 실행되어야 함)\n",
    "    def next(self):\n",
    "        if self.current.next == None:\n",
    "            return None\n",
    "\n",
    "        self.before = self.current\n",
    "        self.current = self.current.next\n",
    "\n",
    "        return self.current.data\n",
    "\n",
    "    def size(self):\n",
    "        return self.num_of_data"
   ]
  },
  {
   "cell_type": "code",
   "execution_count": 12,
   "metadata": {},
   "outputs": [],
   "source": [
    "l_list = LinkedList()"
   ]
  },
  {
   "cell_type": "code",
   "execution_count": null,
   "metadata": {},
   "outputs": [],
   "source": []
  }
 ],
 "metadata": {
  "kernelspec": {
   "display_name": "reinforce",
   "language": "python",
   "name": "reinforce"
  },
  "language_info": {
   "codemirror_mode": {
    "name": "ipython",
    "version": 3
   },
   "file_extension": ".py",
   "mimetype": "text/x-python",
   "name": "python",
   "nbconvert_exporter": "python",
   "pygments_lexer": "ipython3",
   "version": "3.7.3"
  }
 },
 "nbformat": 4,
 "nbformat_minor": 2
}
